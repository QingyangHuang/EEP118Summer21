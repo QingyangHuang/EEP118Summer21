{
 "cells": [
  {
   "cell_type": "markdown",
   "metadata": {},
   "source": [
    "# EEP/IAS 118 - Final Exam\n",
    "\n",
    "## Wednesday, August 11th with Time Limit of 120 Minutes. \n",
    "\n",
    "Submit materials (a copy of this notebook and any additional typed work/written scans) as one combined pdf on __Gradescope__. All work can be completed in this notebook. Make sure to run (`shift` + `enter`) all your answer cells before submission to make sure all your output is displayed."
   ]
  },
  {
   "cell_type": "markdown",
   "metadata": {},
   "source": [
    "# Question 1: Cash Transfer and School Performance (Randomized Controlled Trial, Interactions and Instrument Variable; 25 points)\n",
    "\n",
    "In Baird et al. (2011), researchers evaluate the effect of a cash transfer program in Malawi on adolescent girls' school performances. The program includes two distinct experiments: in the first experiment, girls in the control group receive no cash transfer, and girls in the treatment group receive unconditional transfers; in the second experiment, girls in the control group receive no cash transfer, while girls in the treament group receive conditional cash transfers - they only receive the cash transfer if they attend schools. \n",
    "\n",
    "We first discuss the unconditional transfer experiment. Assume you are working with a cross-section data set with girls test grades on English reading comprehension ($test_i$) and whether the girl is **randomly** assigned in the unconditional transfer treatment ($UCT_i=1$ for treatment group, $=0$ for control group, \\textit{girls in the second experiment are not in your sample}). "
   ]
  },
  {
   "cell_type": "code",
   "execution_count": 1,
   "metadata": {},
   "outputs": [
    {
     "data": {
      "text/html": [
       "-0.456435464587638"
      ],
      "text/latex": [
       "-0.456435464587638"
      ],
      "text/markdown": [
       "-0.456435464587638"
      ],
      "text/plain": [
       "[1] -0.4564355"
      ]
     },
     "metadata": {},
     "output_type": "display_data"
    }
   ],
   "source": [
    "# Use this code cell as calculator for Question 1, for example: \n",
    "(0.55-0.6)/sqrt(0.6*0.4/20)"
   ]
  },
  {
   "cell_type": "markdown",
   "metadata": {},
   "source": [
    "## 1. The researchers first estimate a simple regression model below. Which coefficient tells you the difference in girls' test performances between the control group and the unconditional cash transfer group? (5 points)\n",
    "$$(Model \\ A) \\quad test_i=\\beta_0+\\beta_1UCT_i+u_i$$ "
   ]
  },
  {
   "cell_type": "markdown",
   "metadata": {},
   "source": [
    "_[Type your answers here]_"
   ]
  },
  {
   "cell_type": "markdown",
   "metadata": {},
   "source": [
    "## 2. Explain why the random assignment of girls means we do not need to worry about omitted variable bias from girls characteristics.  (5 points)"
   ]
  },
  {
   "cell_type": "markdown",
   "metadata": {},
   "source": [
    "_[Type your answers here]_"
   ]
  },
  {
   "cell_type": "markdown",
   "metadata": {},
   "source": [
    "The researchers doubt that the treatment effects are likely to be different for girls living in the rural area compared to those in the urban area. They observe an additional dummy variable $rural=1$ if a girl lives in the rural area and estimate a model with an interaction term:  \n",
    "$$(Model \\ B) \\quad test_i=\\beta_0+\\beta_1UCT_i+\\beta_2rural_i+\\beta_3rural_i\\times UCT_i+u_i$$"
   ]
  },
  {
   "cell_type": "markdown",
   "metadata": {},
   "source": [
    "## 3. What is the marginal effect of receiving unconditional cash transfer on test performance for a girl living in the rural area? Express your results with the coefficients in _Model B_.  (5 points)"
   ]
  },
  {
   "cell_type": "markdown",
   "metadata": {},
   "source": [
    "_[Type your answers here]_"
   ]
  },
  {
   "cell_type": "markdown",
   "metadata": {},
   "source": [
    "Now let's discuss the conditional transfer experiment. Assume you are working with a cross-section data set with girls test grades on English reading comprehension ($test_i$), whether the girl is **randomly** assigned in the conditional cash transfer treatment ($CCT_i=1$ for treatment group, $=0$ for control group, _girls in the first experiment are not in your sample_), and the girl's school attendance ($attend_i=1$ if the girl attends school). Note that in the second experiment, a girl receives the cash transfer only if $CCT_i=attend_i=1$. "
   ]
  },
  {
   "cell_type": "markdown",
   "metadata": {},
   "source": [
    "## 4. In _Model C_ below, what does $\\beta_1$ estimate? Does $\\beta_1$ represent ATE, TOT or ITT? (Hint: think about the compliance issue - does every girl assigned to the CCT group receives the cash transfer?) (5 points)\n",
    "$$(Model \\ C) \\quad test_i=\\beta_0+\\beta_1CCT_i+u_i$$ "
   ]
  },
  {
   "cell_type": "markdown",
   "metadata": {},
   "source": [
    "_[Type your answers here]_"
   ]
  },
  {
   "cell_type": "markdown",
   "metadata": {},
   "source": [
    "## 5. The researchers want to estimate the effect of _School Attendance_ on test performance, using $CCT_i$ as an _instrument variable_ for $attend_i$. Write the two key assumptions for instrument variable, and discuss whether you believe the two assumptions are valid in this example. (5 points)\n",
    "\n"
   ]
  },
  {
   "cell_type": "markdown",
   "metadata": {},
   "source": [
    "_[Type your answers here]_"
   ]
  },
  {
   "cell_type": "markdown",
   "metadata": {},
   "source": [
    "# Question 2: Environmental Regulation and CEO Salary (Difference-in-Differences; 25 points)\n",
    "\n",
    "We learn that a random subset of the CEO's in an observed database were affected by a quasi-experiment. Half of them work in firms that were subject to strict environmental regulations because they operated in counties that were subject to the Clean Air Regulation. The other half of the CEO's worked in regions that were not regulated. Moreover, regulation happene in Year 2 and did not happen in Year 1, so we can observe the wages of CEO's before and after the environmental regulation is implemented. We also have access to some data on the CEO characteristics and firm characteristics in Year 1. \n",
    "\n",
    "Below is a table showing the average wages of CEO's in Year 1 and Year 2 in areas that received the environmental regulations and in non-regulated areas.\n",
    "\n",
    "\n",
    "| Average CEO Wages           | Not Regulated (Control) | Regulated (Treat) |\n",
    "|-----------------|------------------------------|------------------------|\n",
    "| Year 1 (Pre)      | 920                        | 1000                 |\n",
    "| Year 2 (Post)     | 1005                         | 1050                    |\n"
   ]
  },
  {
   "cell_type": "code",
   "execution_count": 2,
   "metadata": {},
   "outputs": [
    {
     "data": {
      "text/html": [
       "-0.456435464587638"
      ],
      "text/latex": [
       "-0.456435464587638"
      ],
      "text/markdown": [
       "-0.456435464587638"
      ],
      "text/plain": [
       "[1] -0.4564355"
      ]
     },
     "metadata": {},
     "output_type": "display_data"
    }
   ],
   "source": [
    "# Use this code cell as calculator for Question 2, for example: \n",
    "(0.55-0.6)/sqrt(0.6*0.4/20)"
   ]
  },
  {
   "cell_type": "markdown",
   "metadata": {},
   "source": [
    "## 1. Use the table above to estimate the causal effect of environmental regulation on CEO wages. (5 points)"
   ]
  },
  {
   "cell_type": "markdown",
   "metadata": {},
   "source": [
    "_[Type your answers here]_"
   ]
  },
  {
   "cell_type": "markdown",
   "metadata": {},
   "source": [
    "## 2. Below is the equation we estimate to measure the causal effect of regulation on CEO wages.\n",
    "$$\\hat{w}_{it}=\\hat{\\delta}_0+\\hat{\\delta}_1Year2_t+\\hat{\\delta}_2Regulated_i+\\hat{\\delta}_3Regulated_i\\times Year2_t$$\n",
    "## What are the values of the estimated coefficients in this wage equation given what you know in the table above? Calculate the four values for $\\hat{\\delta}_0$, $\\hat{\\delta}_1$, $\\hat{\\delta}_2$ and $\\hat{\\delta}_3$. (5 points)"
   ]
  },
  {
   "cell_type": "markdown",
   "metadata": {},
   "source": [
    "_[Type your answers here]_"
   ]
  },
  {
   "cell_type": "markdown",
   "metadata": {},
   "source": [
    "## 3.  Assume the standard errors are $se(\\hat{\\delta}_0)=42$, $se(\\hat{\\delta}_1)=4$, $se(\\hat{\\delta}_2)=2$, $se(\\hat{\\delta}_3)=5$. Please test the null that the regulation has no causal effect on wages in a two sided test at the 5 percent significance level. Use the 5 steps of hypothesis testing. (5 points)\n",
    "\n",
    "**Hint:** Assume the sample size is large enough, so you can use 1.96 as the critical value. "
   ]
  },
  {
   "cell_type": "markdown",
   "metadata": {},
   "source": [
    "_[Type your answers here]_"
   ]
  },
  {
   "cell_type": "markdown",
   "metadata": {},
   "source": [
    "## 4. What key assumption do you need to make for your regression in part 2 to estimate the causal effect of regulation on CEO wages?  (5 points)"
   ]
  },
  {
   "cell_type": "markdown",
   "metadata": {},
   "source": [
    "_[Type your answers here]_"
   ]
  },
  {
   "cell_type": "markdown",
   "metadata": {},
   "source": [
    "## 5.  Suppose you found data on CEO wages from Year 0, two years before the regulation was introduced as reported in the table below. How does this affect your opinion on the validity of the Diff-in-Diff assumption?  (5 points)\n",
    "\n",
    "\n",
    "| Average CEO Wages           | Not Regulated (Control) | Regulated (Treat) |\n",
    "|-----------------|------------------------------|------------------------|\n",
    "| Year 0 (Pre-pre)      | 900                        | 980                 |\n",
    "| Year 1 (Pre)     | 920                        | 1000                    |\n",
    "\n",
    "\t"
   ]
  },
  {
   "cell_type": "markdown",
   "metadata": {},
   "source": [
    "_[Type your answers here]_"
   ]
  },
  {
   "cell_type": "markdown",
   "metadata": {},
   "source": [
    "# Question 3: Time Difference and Atheletic Performance (Fixed Effects; 25 points)\n",
    "\n",
    "Assume you are participating a research project, where researchers are curious about how time-difference affects the performance of atheletes. The researchers collected a database with all weightlifting players in the Tokyo 2020 Olympic Games. Assume your observed variables include each athelete's game performance ($weight$, measured in kilograms) and the time difference between each athelete's home country and Tokyo ($diff$, measured in hours)."
   ]
  },
  {
   "cell_type": "code",
   "execution_count": 3,
   "metadata": {},
   "outputs": [
    {
     "data": {
      "text/html": [
       "-0.456435464587638"
      ],
      "text/latex": [
       "-0.456435464587638"
      ],
      "text/markdown": [
       "-0.456435464587638"
      ],
      "text/plain": [
       "[1] -0.4564355"
      ]
     },
     "metadata": {},
     "output_type": "display_data"
    }
   ],
   "source": [
    "# Use this code cell as calculator for Question 3, for example: \n",
    "(0.55-0.6)/sqrt(0.6*0.4/20)"
   ]
  },
  {
   "cell_type": "markdown",
   "metadata": {},
   "source": [
    "## 1. What kind of data set are you working with? (i.e. time series, cross-section, pooled cross-section or panel) What is the unit of observation? (5 points)"
   ]
  },
  {
   "cell_type": "markdown",
   "metadata": {},
   "source": [
    "_[Type your answers here]_"
   ]
  },
  {
   "cell_type": "markdown",
   "metadata": {},
   "source": [
    "Your colleague estimates the following **Model A**.\n",
    "$$weight_{i}=\\beta_0+\\beta_1diff_{i}+u_i$$\n",
    "You argue that this model does not allow you to identify the causal effect because an important variable, $CountryAdvantage_i$ is omitted. The relevant context is described below:  \n",
    "\n",
    "$\\cdot$ Historically, countries in East Asia and Eastern Europe have invested more in training weightlifting atheletes and their players are therefore more competitive.\n",
    "\n",
    "$\\cdot$ We call this a \"Country Advantage\" issue that atheletes from specific home countries are likely to have systematically better performances. \n",
    "\n",
    "$\\cdot$ For example, atheletes from Bulgaria, China, Russia, and Turkey have better performances in the history (so $CountryAdvantage_i$ is higher for them), and they are also predicted to have better performances in Tokyo 2020. \n",
    "\n",
    "$\\cdot$ In the meanwhile, East Asia and Eastern Europe have smaller time differences from Tokyo, the city that hosts the 2020 Olympic Games.\n",
    "\\end{itemize}\n",
    "\n",
    "You conclude that the unobservable $CountryAdvantage_i$ would likely lead to an omitted variable bias. "
   ]
  },
  {
   "cell_type": "markdown",
   "metadata": {},
   "source": [
    "## 2. Based on the information above, predict the _direction_ of the omitted variable bias caused by the unobservable $CountryAdvantage_i$. (5 points)"
   ]
  },
  {
   "cell_type": "markdown",
   "metadata": {},
   "source": [
    "_[Type your answers here]_"
   ]
  },
  {
   "cell_type": "markdown",
   "metadata": {},
   "source": [
    "To eliminate this concern, the researchers collected the atheletes' performances in the Rio 2016 Olympic Games and obtains a panel data of atheletes who participated in both Olympic Games. Because the two Olympic Games are held in different cities, $diff_{it}$ now measures the time difference between the athelete's home country and the Olympic Game city (Rio in 2016; Tokyo in 2020) and is varying over time. You now estimate the following **Model B**:\n",
    "$$weight_{it}=\\beta_0+\\beta_1diff_{it}+a_i+d2020_t+u_{it}$$\n",
    "where $a_i$ are the athelete fixed effects, $d2020_t$ is the time fixed effect (a dummy variable for Tokyo 2020)."
   ]
  },
  {
   "cell_type": "markdown",
   "metadata": {},
   "source": [
    "## 3. What factors do the athelete fixed effects $a_i$ control for? (5 points)"
   ]
  },
  {
   "cell_type": "markdown",
   "metadata": {},
   "source": [
    "_[Type your answers here]_"
   ]
  },
  {
   "cell_type": "markdown",
   "metadata": {},
   "source": [
    "## 4. Do you still worry about the omitted variable bias caused by $CountryAdvantage_i$? Assume no athelete in your sample switched his/her home country between the two Olympic Games. (5 points)"
   ]
  },
  {
   "cell_type": "markdown",
   "metadata": {},
   "source": [
    "_[Type your answers here]_"
   ]
  },
  {
   "cell_type": "markdown",
   "metadata": {},
   "source": [
    "## 5. What factors does $d2020_t$ control for? (5 points)"
   ]
  },
  {
   "cell_type": "markdown",
   "metadata": {},
   "source": [
    "_[Type your answers here]_"
   ]
  },
  {
   "cell_type": "markdown",
   "metadata": {},
   "source": [
    "# Question 4: Remote Instruction and Academic Performances (Regression Discontinuity; 25 points)\n",
    "\n",
    "UC Berkeley plans to operate in Fall 2021 under a hybrid instruction mode - some courses will be taught in person and some courses will be taught remote. As a researcher you are interested in evaluating the impact of remote instruction on students' academic performances. Assume you observe a class-level cross sectional database at the end of Fall 2021. The observed variables include class size ($size$, number of students in each course), whether the course is taught remotely ($remote$, dummy variable $=1$ if remote, $=0$ if in person) and students performances ($grade$: the average grade for course).\n"
   ]
  },
  {
   "cell_type": "code",
   "execution_count": 4,
   "metadata": {},
   "outputs": [
    {
     "data": {
      "text/html": [
       "-0.456435464587638"
      ],
      "text/latex": [
       "-0.456435464587638"
      ],
      "text/markdown": [
       "-0.456435464587638"
      ],
      "text/plain": [
       "[1] -0.4564355"
      ]
     },
     "metadata": {},
     "output_type": "display_data"
    }
   ],
   "source": [
    "# Use this code cell as calculator for Question 4, for example: \n",
    "(0.55-0.6)/sqrt(0.6*0.4/20)"
   ]
  },
  {
   "cell_type": "markdown",
   "metadata": {},
   "source": [
    "## 1. Does the simple regression \\textbf{Model A} allow you to identify the causal effect? Why or why not? \n",
    "$$grade_i=\\beta_0+\\beta_1remote_i+u_i$$"
   ]
  },
  {
   "cell_type": "markdown",
   "metadata": {},
   "source": [
    "_[Type your answers here]_"
   ]
  },
  {
   "cell_type": "markdown",
   "metadata": {},
   "source": [
    "## 2. As per UC Berkeley campus policy, all courses with $\\geq 200$ students are required to be taught remotely, and courses with size under 200 will be taught in-person. Write out the _Regression Discontinuity_ model you would estimate the effect of remote instruction of grades. (5 points) \n",
    "\n",
    "**Hint:** use $size$ as running variable, and 200 as threshold."
   ]
  },
  {
   "cell_type": "markdown",
   "metadata": {},
   "source": [
    "_[Type your answers here]_"
   ]
  },
  {
   "cell_type": "markdown",
   "metadata": {},
   "source": [
    "## 3. Which coefficient in your regression in part 2 denotes the treatment effect? What treatment effect are you estimating here and what is its interpretation? (5 points)"
   ]
  },
  {
   "cell_type": "markdown",
   "metadata": {},
   "source": [
    "_[Type your answers here]_"
   ]
  },
  {
   "cell_type": "markdown",
   "metadata": {},
   "source": [
    "## 4. We assume that all potentially correlated observables and unobservables are \"smooth'' around the threshold. For an observable variable $AvgAge$ (the average age of students enrolled), how would you test the assumption using a regression? Write down this model.  (5 points)\n"
   ]
  },
  {
   "cell_type": "markdown",
   "metadata": {},
   "source": [
    "_[Type your answers here]_"
   ]
  },
  {
   "cell_type": "markdown",
   "metadata": {},
   "source": [
    "## 5. We also know manipulation of the \"Running Variable'' around the threshold in an RD violates our causal interpretation of the treatment effect. Are you worried about manipulation of the running variable in this setting? Why or why not? (5 points)\n",
    "\n"
   ]
  },
  {
   "cell_type": "markdown",
   "metadata": {},
   "source": [
    "_[Type your answers here]_"
   ]
  },
  {
   "cell_type": "markdown",
   "metadata": {},
   "source": [
    "## Downloading your Notebook\n",
    "\n",
    "Download a PDF copy of your notebook by using __File > Download as > PDF via Chrome (.pdf)__. It does not matter what browser you are using, you can use this command to download a copy of your notebook while on Chrome/Firefox/Opera/Edge/Safari/heck probably even Internet Explorer or Netscape Navigator.\n",
    "\n",
    "If you have a problem downloading your notebook or combining PDFs, or if you are using RStudio on your own computer and are unsure what sort of output I want, __please email me__."
   ]
  }
 ],
 "metadata": {
  "kernelspec": {
   "display_name": "R",
   "language": "R",
   "name": "ir"
  },
  "language_info": {
   "codemirror_mode": "r",
   "file_extension": ".r",
   "mimetype": "text/x-r-source",
   "name": "R",
   "pygments_lexer": "r",
   "version": "4.0.5"
  }
 },
 "nbformat": 4,
 "nbformat_minor": 4
}
