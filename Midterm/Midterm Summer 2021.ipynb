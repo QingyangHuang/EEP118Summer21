{
 "cells": [
  {
   "cell_type": "markdown",
   "metadata": {},
   "source": [
    "# EEP/IAS 118 - Midterm Exam\n",
    "\n",
    "## Monday, July 19th with Time Limit of 120 Minutes. \n",
    "\n",
    "Submit materials (a copy of this notebook and any additional typed work/written scans) as one combined pdf on __Gradescope__. All work can be completed in this notebook. Make sure to run (`shift` + `enter`) all your answer cells before submission to make sure all your output is displayed."
   ]
  },
  {
   "cell_type": "markdown",
   "metadata": {},
   "source": [
    "# Question 1: Multiple Linear Regression Assumptions (20 pts)\n",
    "We've talked about the 6 assumptions behind Multiple Linear Regression (MLR). We start from the baseline hypotheses MLR.1-3: \n",
    "\n",
    "_MLR.1_ The population model is linear in parameters $y=\\beta_0+\\beta_1 x_1 + \\cdots + \\beta_k x_k + u$. \n",
    "\n",
    "_MLR.2_ $\\{(x_{i1},\\cdots,x_{ik},y_i), i=1,\\cdots,N\\}$ is a random sample from the population. \n",
    "\n",
    "_MLR.3_ No perfect colinearity among observed variables and $Var(x_j)\\neq 0, j=1,\\cdots,k$."
   ]
  },
  {
   "cell_type": "markdown",
   "metadata": {},
   "source": [
    "## 1. Write the additional assumption that must be satisfied for $\\hat{\\beta}$ to be unbiased. (5 points)"
   ]
  },
  {
   "cell_type": "markdown",
   "metadata": {},
   "source": [
    "Type your answers here."
   ]
  },
  {
   "cell_type": "markdown",
   "metadata": {},
   "source": [
    "## 2. Based on MLR 1-3 and the assumption you wirte in (1), write the additional assumption that must be satisfied for you to know $Var(\\hat{\\beta})$. (5 points)"
   ]
  },
  {
   "cell_type": "markdown",
   "metadata": {},
   "source": [
    "Type your answers here."
   ]
  },
  {
   "cell_type": "markdown",
   "metadata": {},
   "source": [
    "## 3. Based on MLR 1-3 and the assumptions you wirte in (1) and (2), write the additional assumption that must be satisfied for you to know the distribution of $\\hat{\\beta}$. (5 points)"
   ]
  },
  {
   "cell_type": "markdown",
   "metadata": {},
   "source": [
    "Type your answers here."
   ]
  },
  {
   "cell_type": "markdown",
   "metadata": {},
   "source": [
    "## 4. Explain the concept of perfect colinearity in MLR.3 (maximum 2 sentences). What happens to the $Var(\\hat \\beta_j)$ when we add one or more $x$ variables that are nearly perfectly colinear with $x_j$? Use the mathematical expression for $Var(\\hat \\beta_j)$ to illustrate this. (5 points)\n"
   ]
  },
  {
   "cell_type": "markdown",
   "metadata": {},
   "source": [
    "Type your answers here."
   ]
  },
  {
   "cell_type": "markdown",
   "metadata": {},
   "source": [
    "# Question 2: What predicts college GPA? (30 pts)\n",
    "Suppose we run the follwing regression, where our dependent variable is log college GPA, and our independent variables is log high school GPA. We sample 141 undergraduates and obtain the following results:\n",
    "\n",
    "Reg1<-lm(log(colGPA)~log(hsGPA),data=gpa_data)\n",
    "\n",
    "summary(Reg1)\n",
    "\n",
    "Residuals:\n",
    "      Min        1Q    Median        3Q       Max \n",
    "      \n",
    "-0.308253 -0.090414 -0.005565  0.096969  0.277360 \n",
    "\n",
    "Coefficients:\n",
    "\n",
    "Variable    Estimate Std. Error t value Pr(>|t|) \n",
    "\n",
    "(Intercept)   0.4884     0.1192   4.098 7.05e-05\n",
    "\n",
    "log(hsGPA)    0.5096     0.0974   ----- 6.03e-07\n",
    "\n",
    "Residual standard error: 0.1112 on 139 degrees of freedom\n",
    "\n",
    "R-squared:  0.1645,\tAdjusted R-squared:  0.1585 \n",
    "\n",
    "F-statistic: 27.38 on 1 and 139 DF,  p-value: 6.034e-07"
   ]
  },
  {
   "cell_type": "code",
   "execution_count": 6,
   "metadata": {},
   "outputs": [
    {
     "data": {
      "text/html": [
       "-0.456435464587638"
      ],
      "text/latex": [
       "-0.456435464587638"
      ],
      "text/markdown": [
       "-0.456435464587638"
      ],
      "text/plain": [
       "[1] -0.4564355"
      ]
     },
     "metadata": {},
     "output_type": "display_data"
    }
   ],
   "source": [
    "# Use this code cell as calculator for Question 2, for example: \n",
    "(0.55-0.6)/sqrt(0.6*0.4/20)"
   ]
  },
  {
   "cell_type": "markdown",
   "metadata": {},
   "source": [
    "## 1. Interpret the coefficient on high school GPA (use SSS). (5 points)"
   ]
  },
  {
   "cell_type": "markdown",
   "metadata": {},
   "source": [
    "Type your answers here."
   ]
  },
  {
   "cell_type": "markdown",
   "metadata": {},
   "source": [
    "## 2. Compute the missing t-statistic for high school GPA. (5 points)"
   ]
  },
  {
   "cell_type": "markdown",
   "metadata": {},
   "source": [
    "Type your answers here."
   ]
  },
  {
   "cell_type": "markdown",
   "metadata": {},
   "source": [
    "## 3. Interpret the R-squared of the regression. (5 points)"
   ]
  },
  {
   "cell_type": "markdown",
   "metadata": {},
   "source": [
    "Type your answers here."
   ]
  },
  {
   "cell_type": "markdown",
   "metadata": {},
   "source": [
    "We believe that our model may be biased. Therefore, we run another regression that includes an additional variable: *skipped*, which denotes the average number of lectures the individual misses per week. The results are as follows:\n",
    "\n",
    "Reg2<-lm(log(colGPA)~log(hsGPA)+skipped,data=gpa_data)\n",
    "\n",
    "summary(Reg2)\n",
    "\n",
    "Residuals:\n",
    "      Min        1Q    Median        3Q       Max \n",
    "      \n",
    "-0.308690 -0.072473 -0.004644  0.084025  0.271491 \n",
    "\n",
    "Coefficients:\n",
    "\n",
    "Variable     Estimate Std. Error t value Pr(>|t|)  \n",
    "  \n",
    "(Intercept)  0.546862   0.117269   4.663 7.27e-06\n",
    "\n",
    "log(hsGPA)   0.484487   0.094918   5.104 1.08e-06\n",
    "\n",
    "skipped     -0.025859   0.008413  -3.074  0.00255\n",
    "\n",
    "Residual standard error: 0.108 on 138 degrees of freedom\n",
    "\n",
    "R-squared:  0.2181,\tAdjusted R-squared:  0.2067 \n",
    "\n",
    "F-statistic: 19.24 on 2 and 138 DF,  p-value: 4.249e-08"
   ]
  },
  {
   "cell_type": "markdown",
   "metadata": {},
   "source": [
    "## 4.  Interpret the coefficient on \\textit{skipped} (use SSS). (5 points)"
   ]
  },
  {
   "cell_type": "markdown",
   "metadata": {},
   "source": [
    "Type your answers here."
   ]
  },
  {
   "cell_type": "markdown",
   "metadata": {},
   "source": [
    "## 5. What happened to the coefficient on $log(hsGPA)$? Speak about whether or not there was bias, and in what direction (maximum of 3 sentences). (5 points)\n",
    "\t"
   ]
  },
  {
   "cell_type": "markdown",
   "metadata": {},
   "source": [
    "Type your answers here."
   ]
  },
  {
   "cell_type": "markdown",
   "metadata": {},
   "source": [
    "## 6. What does the comparison of model \\#2 to model \\#1 reveal about the relationship between high school GPA and number of lectures skipped in college? Explain your reasoning clearly (maximum four sentences).  (5 points)"
   ]
  },
  {
   "cell_type": "markdown",
   "metadata": {},
   "source": [
    "Type your answers here."
   ]
  },
  {
   "cell_type": "markdown",
   "metadata": {},
   "source": [
    "# Question 3: Speed Limit and Primary Seatbelt Law (15 pts)\n",
    "We observe data on the number of US states that have a \"primary\" seatbelt law across states that have a speed limit of 65 mph and those with a speed limit above 65 mph: \n",
    "\n",
    "| Group           | Number of States in Group | Number of States with Primary Law |\n",
    "|-----------------|------------------------------|------------------------|\n",
    "| 65 mph speed limit      | 27                        | 8                 |\n",
    "| Greater than 65 mph     | 18                         | 4                    |\n"
   ]
  },
  {
   "cell_type": "code",
   "execution_count": 7,
   "metadata": {},
   "outputs": [
    {
     "data": {
      "text/html": [
       "-0.456435464587638"
      ],
      "text/latex": [
       "-0.456435464587638"
      ],
      "text/markdown": [
       "-0.456435464587638"
      ],
      "text/plain": [
       "[1] -0.4564355"
      ]
     },
     "metadata": {},
     "output_type": "display_data"
    }
   ],
   "source": [
    "# Use this code cell as calculator for Question 3, for example: \n",
    "(0.55-0.6)/sqrt(0.6*0.4/20)"
   ]
  },
  {
   "cell_type": "markdown",
   "metadata": {},
   "source": [
    "## 1. Estimate the proportion of states that have a primary seatbelt law in the group with 65mph speed limit ($\\hat{p}_{65}$), in the group with greater than 65 mph speed limit ($\\hat{p}_{greater}$) and the pooled proportion ($\\hat{p}$). (5 points)"
   ]
  },
  {
   "cell_type": "markdown",
   "metadata": {},
   "source": [
    "Type your answers here."
   ]
  },
  {
   "cell_type": "markdown",
   "metadata": {},
   "source": [
    "## 2. Test at the 5\\% level if the probability of having a primary seatbelt law in states with 65 mph speed limit is equal to 50\\%  *(two-sided)*. Use the 5 steps for hypothesis testing. (5 points)"
   ]
  },
  {
   "cell_type": "markdown",
   "metadata": {},
   "source": [
    "Type your answers here."
   ]
  },
  {
   "cell_type": "markdown",
   "metadata": {},
   "source": [
    "## 3. Test at the 10\\% level that the probability of having a primary seatbelt law is higher *(one-sided test)* in states with 65 mph speed limit than states with greater than 65 mph speed limit. Use the 5 steps for hypothesis testing. (5 points)"
   ]
  },
  {
   "cell_type": "markdown",
   "metadata": {},
   "source": [
    "Type your answers here."
   ]
  },
  {
   "cell_type": "markdown",
   "metadata": {},
   "source": [
    "# Question 4: Food Expenditures in Guatemala, 2006 (35 pts)\n",
    "Using the Food Expenditures in Guatemala data you worked with on Problem Set 2, we run the following regression of log food expenditure ($log(foodexp)$) on log total expenditure ($log(totalexp)$) and household size ($hhsize$). We sample 520 rural households and obtain the following results:\n",
    "\n",
    "Reg3<-lm(log(foodexp)~log(totexp)+hhsize,data=exp_data)\n",
    "\n",
    "summary(Reg3)\n",
    "\n",
    "Residuals:\n",
    "     Min       1Q   Median       3Q      Max \n",
    "\n",
    "-1.16707 -0.14651  0.01163  0.17433  0.75965 \n",
    "\n",
    "Coefficients:\n",
    "\n",
    "Variable    Estimate Std. Error t value Pr(>|t|) \n",
    "   \n",
    "(Intercept)  1.81387    0.18860   9.618  < 2e-16\n",
    "\n",
    "log(totexp)  0.73249    ------  39.977  < 2e-16 \n",
    "\n",
    "hhsize       0.03742    0.00489   7.652 9.78e-14\n",
    "\n",
    "\n",
    "Residual standard error: 0.2664 on 517 degrees of freedom\n",
    "\n",
    "R-squared:  0.7799,\tAdjusted R-squared:  0.7791 \n",
    "\n",
    "F-statistic: 916.1 on 2 and 517 DF,  p-value: < 2.2e-16\n"
   ]
  },
  {
   "cell_type": "code",
   "execution_count": 8,
   "metadata": {},
   "outputs": [
    {
     "data": {
      "text/html": [
       "-0.456435464587638"
      ],
      "text/latex": [
       "-0.456435464587638"
      ],
      "text/markdown": [
       "-0.456435464587638"
      ],
      "text/plain": [
       "[1] -0.4564355"
      ]
     },
     "metadata": {},
     "output_type": "display_data"
    }
   ],
   "source": [
    "# Use this code cell as calculator for Question 3, for example: \n",
    "(0.55-0.6)/sqrt(0.6*0.4/20)"
   ]
  },
  {
   "cell_type": "markdown",
   "metadata": {},
   "source": [
    "## 1. Calculate the standard error for $\\beta_1$ (the coefficient on total expenditure) in this regression. (5 points)"
   ]
  },
  {
   "cell_type": "markdown",
   "metadata": {},
   "source": [
    "Type your answers here."
   ]
  },
  {
   "cell_type": "markdown",
   "metadata": {},
   "source": [
    "## 2. Test at 5\\% significance level *(two-sided)* if the elasticity of food expentiture to total expenditure ($\\beta_1$) is equal to 1. Use the 5 steps for hypothesis testing. (5 points)"
   ]
  },
  {
   "cell_type": "markdown",
   "metadata": {},
   "source": [
    "Type your answers here."
   ]
  },
  {
   "cell_type": "markdown",
   "metadata": {},
   "source": [
    "## 3. Construct a 95\\% confidence interval for $\\beta_1$. (5 points)"
   ]
  },
  {
   "cell_type": "markdown",
   "metadata": {},
   "source": [
    "Type your answers here."
   ]
  },
  {
   "cell_type": "markdown",
   "metadata": {},
   "source": [
    "## 4. How does your answer to part 3 relate to your answer to part 2? (5 points)"
   ]
  },
  {
   "cell_type": "markdown",
   "metadata": {},
   "source": [
    "Type your answers here."
   ]
  },
  {
   "cell_type": "markdown",
   "metadata": {},
   "source": [
    "Now I run a different model with two new variables: $rural$, which is a binary variable $=1$ if the household lives in rural area; $femalehead$, which is a binary variable $=1$ if the household head is female. The results are as follows:\n",
    "\n",
    "Reg4<-lm(log(foodexp)~log(totexp)+hhsize+rural+femalehead,data=exp_data)\n",
    "\n",
    "summary(Reg4)\n",
    "\n",
    "Residuals:\n",
    "     Min       1Q   Median       3Q      Max \n",
    "\n",
    "-1.12337 -0.14873  0.01114  0.16493  0.68882 \n",
    "\n",
    "Coefficients:\n",
    "\n",
    "Variable     Estimate Std. Error t value Pr(>|t|)    \n",
    "(Intercept)  1.538341   0.207103   7.428 4.61e-13\n",
    "\n",
    "log(totexp)  0.759332   0.019729  38.488  < 2e-16\n",
    "\n",
    "hhsize       0.031221   0.005066   6.163 1.44e-09\n",
    "\n",
    "rural        0.077553   0.025491   3.042  0.00247\n",
    "\n",
    "femalehead  -0.075566   0.028500  -2.651  0.00826\n",
    " \n",
    "\n",
    "\n",
    "\n",
    "Residual standard error: 0.2627 on 515 degrees of freedom\n",
    "\n",
    "R-squared:  0.7867,\tAdjusted R-squared:  0.7851 \n",
    "\n",
    "F-statistic: 474.9 on 4 and 515 DF,  p-value: < 2.2e-16"
   ]
  },
  {
   "cell_type": "markdown",
   "metadata": {},
   "source": [
    "## 5. Interpret the p-value for $\\beta_3$ (the coefficient on rural). (5 points)\n"
   ]
  },
  {
   "cell_type": "markdown",
   "metadata": {},
   "source": [
    "Type your answers here."
   ]
  },
  {
   "cell_type": "markdown",
   "metadata": {},
   "source": [
    "## 6. Conduct a hypothesis test at the 5\\% significance level \\textit{(one-sided)} to determine whether the coefficients on $rural$ and $femalehead$ are  jointly different from 0. Use the 5 steps of hypothesis testing. (5 points)\n"
   ]
  },
  {
   "cell_type": "markdown",
   "metadata": {},
   "source": [
    "Type your answers here."
   ]
  },
  {
   "cell_type": "markdown",
   "metadata": {},
   "source": [
    "Finally, suppose I take the level of food expenditure and the level of high school GPA (instead of the log) and standardize all of the variables and get the following results:\n",
    "\n",
    "Reg5_standardized<-lm(foodexp ~ totexp + hhsize + rural + femalehead, data = exp_data)\n",
    "\n",
    "lm.beta(Reg5_standardized)\n",
    "\n",
    "Standardized Coefficients::\n",
    "\n",
    "(Intercept)      totexp      hhsize       rural  femalehead \n",
    "\n",
    " 0.00000000  0.79672106  0.18646467  0.02080951 -0.01195785"
   ]
  },
  {
   "cell_type": "markdown",
   "metadata": {},
   "source": [
    "## 7. Interpret the magnitudes of $\\beta_3$ and $\\beta_4$ in this regression (i.e. the coefficient on $rural$ and the coefficient on $femalehead$). Why might standardizing your variables be useful? (Maximum of 3 sentences). (5 points)"
   ]
  },
  {
   "cell_type": "markdown",
   "metadata": {},
   "source": [
    "Type your answers here."
   ]
  },
  {
   "cell_type": "markdown",
   "metadata": {},
   "source": [
    "## Downloading your Notebook\n",
    "\n",
    "Download a PDF copy of your notebook by using __File > Download as > PDF via Chrome (.pdf)__. It does not matter what browser you are using, you can use this command to download a copy of your notebook while on Chrome/Firefox/Opera/Edge/Safari/heck probably even Internet Explorer or Netscape Navigator.\n",
    "\n",
    "If you have a problem downloading your notebook or combining PDFs, or if you are using RStudio on your own computer and are unsure what sort of output I want, __please email me__."
   ]
  }
 ],
 "metadata": {
  "kernelspec": {
   "display_name": "R",
   "language": "R",
   "name": "ir"
  },
  "language_info": {
   "codemirror_mode": "r",
   "file_extension": ".r",
   "mimetype": "text/x-r-source",
   "name": "R",
   "pygments_lexer": "r",
   "version": "4.0.5"
  }
 },
 "nbformat": 4,
 "nbformat_minor": 4
}
