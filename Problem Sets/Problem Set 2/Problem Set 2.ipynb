{
 "cells": [
  {
   "cell_type": "markdown",
   "metadata": {
    "deletable": false,
    "editable": false
   },
   "source": [
    "###### EEP/IAS 118 - Problem Set 2\n",
    "\n",
    "Due __Tuesday, July 6__ at 11:59pm. \n",
    "\n",
    "Submit materials (a copy of this notebook and excel workbooks) as one combined pdf on __Gradescope__. All work is either written answers or __R__ work; 100% of the assignment can be completed in this notebook.\n",
    "\n",
    "Note that you do not have to use the notebook if you do not want to, however __your submitted PDF must include R code for all requested summary statistics/regression output AND the desired output itself.__ For example, if a question asks you to create a new variable and plot it, I expect to see the code used to create that variable and the plot itself. It doesn't all have to be in this notebook, but it does have to be in the PDF you submit to Gradescope."
   ]
  },
  {
   "cell_type": "markdown",
   "metadata": {
    "deletable": false
   },
   "source": [
    "# Food and Energy Expenditures in Guatemala, 2006\n",
    "\n",
    "## Guidelines\n",
    "\n",
    "This assignment should be completed using **R** . Remember, when you want output to show in the notebook, you need to explicitly call the object in your R code. For example, if I want to show the mean of GDP per capita, I can’t just type `MeanGDP <- mean(GDPCapita)` because that will just save the output to `MeanGDP`. Instead, I need to then type `MeanGDP` on its own so it displays the output. __Answers that do not display any output will be graded as incorrect.__\n",
    "\n",
    "To write comments in your script (text that will display and will not be read as commands), type a `#` at the beginning of each line in which you have written a comment. Use these as notes to keep track of which question you are trying to answer, the purpose of each command, etc."
   ]
  },
  {
   "cell_type": "code",
   "execution_count": 1,
   "metadata": {},
   "outputs": [],
   "source": [
    "# Here is an example of a comment in a code cell. Note that running this cell (shift + enter) does not do anything\n",
    "# because these lines are commented, even if there is a normal command in them. For instance,\n",
    "# 4 + 4\n",
    "# or\n",
    "# library(tidyverse)\n"
   ]
  },
  {
   "cell_type": "markdown",
   "metadata": {
    "deletable": false,
    "editable": false
   },
   "source": [
    "## R Tips\n",
    "\n",
    "* See the posted Section 2 notes for some basic operations (i.e. counting observations, scatterplots, generating variables).\n",
    "* The command `table()` lists all values a variable takes in the sample and the number of times it takes each value.\n",
    "* To summarize data for a specified subset of the observations, you can use filter to subset the data, and then either `summary()` for simple summary statistics or `summarize()` in __tidyverse__ to generate more detailed summary statistics (as we saw in Problem Set 1)."
   ]
  },
  {
   "cell_type": "markdown",
   "metadata": {
    "deletable": false,
    "editable": false
   },
   "source": [
    "## Data Description\n",
    "\n",
    "The data for this exercise come from a nationally representative household survey undertaken in Guatemala in 2006 (ENCOVI). We have drawn a small sample of 520 rural households out of the total of 13686 households in the survey. The \"ENCOVI\\_PS2.dta\" file in the _Problem Set 2_ folder includes the following variables:\n",
    "\n",
    "* totexp: Total annual household expenditures (in quetzales)\n",
    "* foodexp: Annual food expenditures per household (in quetzales)\n",
    "* energyexp: Annual energy expenditures per household (in quetzales) X hhsize: Household size\n",
    "* nrooms: Number of rooms in dwelling\n",
    "* rural: =1 if household lives in rural area, 0 otherwise\n",
    "* indigenous: =1 if household is indigenous, 0 otherwise\n",
    "* femalehead: =1 if household is female, 0 otherwise\n",
    "* kids: Number of kids in household\n",
    "\n",
    "Note that in 2006, when the data were collected, the exchange rate was 1 USD = 7.6 quetzales"
   ]
  },
  {
   "cell_type": "markdown",
   "metadata": {
    "deletable": false,
    "editable": false
   },
   "source": [
    "## Exercise 1\n",
    "\n",
    "\n",
    "### Question 1\n",
    "This question focuses on familiarizing yourself with the data. To start, read in the data using the `read_dta()` function in the __haven__ package. (hint: remember that the file is in our working directory).\n",
    "\n",
    "\n"
   ]
  },
  {
   "cell_type": "code",
   "execution_count": null,
   "metadata": {
    "deletable": false
   },
   "outputs": [],
   "source": [
    "# Type any code for getting started here."
   ]
  },
  {
   "cell_type": "markdown",
   "metadata": {
    "deletable": false,
    "editable": false
   },
   "source": [
    "#### _Part (a):_ Please detail the following: How many households are in the data set? How many households have a female household head? What is the average size of households in the data set? What is the range for the variable kids in the data?"
   ]
  },
  {
   "cell_type": "code",
   "execution_count": 11,
   "metadata": {
    "deletable": false
   },
   "outputs": [],
   "source": [
    "# Type your code for part (a) here\n"
   ]
  },
  {
   "cell_type": "markdown",
   "metadata": {
    "deletable": false
   },
   "source": [
    "Add your written discussion for part (a) here."
   ]
  },
  {
   "cell_type": "markdown",
   "metadata": {
    "deletable": false,
    "editable": false
   },
   "source": [
    "#### _Part (b):_ Construct a variable named *totexp\\_dlr\\_pc* equal to total expenditures per capita in USD. You will need to create this new variable. Plot a histogram of this constructed variable. What is the range of household total expenditures per capita?"
   ]
  },
  {
   "cell_type": "code",
   "execution_count": null,
   "metadata": {
    "deletable": false
   },
   "outputs": [],
   "source": [
    "# Type your code for part (b) here\n"
   ]
  },
  {
   "cell_type": "markdown",
   "metadata": {
    "deletable": false
   },
   "source": [
    "Add your written discussion for part (b) here."
   ]
  },
  {
   "cell_type": "markdown",
   "metadata": {
    "deletable": false,
    "editable": false
   },
   "source": [
    "#### _Part (c):_ Calculate the proportion of household expenditures spent on food. You will need to create this new variable. What is the mean? What is the median? Compare the mean and median for households where the woman is the household head to the mean and median for households with a male head of household (hint: use `group_by()` before `summarize()` from the __tidyverse__ package)."
   ]
  },
  {
   "cell_type": "code",
   "execution_count": 3,
   "metadata": {
    "deletable": false
   },
   "outputs": [],
   "source": [
    "# Type your code for part (c) here\n"
   ]
  },
  {
   "cell_type": "markdown",
   "metadata": {
    "deletable": false
   },
   "source": [
    "Add your written discussion for part (c) here."
   ]
  },
  {
   "cell_type": "markdown",
   "metadata": {
    "deletable": false,
    "editable": false
   },
   "source": [
    "#### _Part (d):_ Calculate the proportion of household expenditures spent on energy. You will need to create this new variable. What is the mean? What is the median?"
   ]
  },
  {
   "cell_type": "code",
   "execution_count": 4,
   "metadata": {
    "deletable": false
   },
   "outputs": [],
   "source": [
    "# Type your code for part (d) here\n"
   ]
  },
  {
   "cell_type": "markdown",
   "metadata": {
    "deletable": false
   },
   "source": [
    "Add your written discussion for part (d) here."
   ]
  },
  {
   "cell_type": "markdown",
   "metadata": {
    "deletable": false,
    "editable": false
   },
   "source": [
    "### Question 2 \n",
    "\n",
    "Consider the following two models of energy and food expenditures:\n",
    "\n",
    "$$energyexp = \\beta_0 + \\beta_1 totexp + u~~~~~~~~ (1)$$\n",
    "\n",
    "$$foodexp = \\beta_0 + \\beta_1 totexp + u~~~~~~~~~~~ (2)$$"
   ]
  },
  {
   "cell_type": "markdown",
   "metadata": {
    "deletable": false,
    "editable": false
   },
   "source": [
    "#### _Part (a):_ Estimate the two models in **R** with the `lm()` command. Interpret your $\\hat \\beta_1$ coefficients for both models, remembering the triplet __S(ign), S(ignificance), S(ize)__, though you don’t need to comment on significance in this problem set. Make sure you output your results in the notebook. (hint: use the `summary()` function on your regression output object to obtain an output table). "
   ]
  },
  {
   "cell_type": "code",
   "execution_count": 5,
   "metadata": {
    "deletable": false
   },
   "outputs": [],
   "source": [
    "# Type any code for part (a) here\n"
   ]
  },
  {
   "cell_type": "markdown",
   "metadata": {
    "deletable": false
   },
   "source": []
  },
  {
   "cell_type": "markdown",
   "metadata": {
    "deletable": false,
    "editable": false
   },
   "source": [
    "#### _Part (b):_ How well do total expenditures predict (i) food expenditures, and (ii) energy expenditures?"
   ]
  },
  {
   "cell_type": "markdown",
   "metadata": {
    "deletable": false
   },
   "source": [
    "Add your written discussion for part (b) here."
   ]
  },
  {
   "cell_type": "markdown",
   "metadata": {
    "deletable": false,
    "editable": false
   },
   "source": [
    "#### _Part (c):_ What are the predicted levels of energy expenditures for a household with total annual expenditures of 10000 quetzales? (pay attention to units)"
   ]
  },
  {
   "cell_type": "code",
   "execution_count": 4,
   "metadata": {
    "deletable": false
   },
   "outputs": [],
   "source": [
    "# Type any code for part (c) here\n"
   ]
  },
  {
   "cell_type": "markdown",
   "metadata": {
    "deletable": false
   },
   "source": [
    "Add your written discussion for part (c) here."
   ]
  },
  {
   "cell_type": "markdown",
   "metadata": {
    "deletable": false,
    "editable": false
   },
   "source": [
    "### Question 3. \n",
    "\n",
    "Consider the following two models of energy and food expenditures:\n",
    "\n",
    "$$\\log(energyexp) = \\beta_0 + \\beta_1 \\log (totexp) + u~~~~~~~~(3)$$    \n",
    "\n",
    "$$\\log(foodexp) = \\beta_0 + \\beta_1 \\log (totexp) + u~~~~~~~~~~~(4)$$     "
   ]
  },
  {
   "cell_type": "markdown",
   "metadata": {
    "deletable": false,
    "editable": false
   },
   "source": [
    "#### _Part (a):_ Estimate the two models, and interpret your $\\hat \\beta_1$ coefficients for both models."
   ]
  },
  {
   "cell_type": "code",
   "execution_count": 4,
   "metadata": {
    "deletable": false
   },
   "outputs": [],
   "source": [
    "# Type any code for part (a) here\n"
   ]
  },
  {
   "cell_type": "markdown",
   "metadata": {
    "deletable": false
   },
   "source": [
    "Add your written discussion for part (a) here."
   ]
  },
  {
   "cell_type": "markdown",
   "metadata": {
    "deletable": false,
    "editable": false
   },
   "source": [
    "#### _Part (b):_ Comparing the estimates of $\\hat \\beta_1$ in equations (3) and (4), do your results seem reasonable? (Hint: what does it mean for an elasticity to be greater or less than 1?)"
   ]
  },
  {
   "cell_type": "code",
   "execution_count": 2,
   "metadata": {},
   "outputs": [],
   "source": [
    "# Type any code for part (b) here (note that you can use the code from part (a) without rerunning it.)"
   ]
  },
  {
   "cell_type": "markdown",
   "metadata": {
    "deletable": false
   },
   "source": [
    "Add your written discussion for part (b) here."
   ]
  },
  {
   "cell_type": "markdown",
   "metadata": {
    "deletable": false,
    "editable": false
   },
   "source": [
    "#### _Part (c):_ Using the results from estimating equation (4), how would you expect food expenditure to change if total expenditures increase by 25%?"
   ]
  },
  {
   "cell_type": "code",
   "execution_count": 6,
   "metadata": {
    "deletable": false
   },
   "outputs": [],
   "source": [
    "# Type any code for part (c) here\n"
   ]
  },
  {
   "cell_type": "markdown",
   "metadata": {
    "deletable": false
   },
   "source": [
    "Add your written discussion for part (c) here."
   ]
  },
  {
   "cell_type": "markdown",
   "metadata": {
    "deletable": false,
    "editable": false
   },
   "source": [
    "### Question 4. Functional Forms \n",
    "\n",
    "We will now explore the role of household size in food consumption. Consider the following model:\n",
    "\n",
    "$$\\log (foodexp) = \\beta_0 + \\beta_1 \\log(totexp) + \\beta_2 \\log(hhsize) + u ~~~~~~~(5)$$"
   ]
  },
  {
   "cell_type": "markdown",
   "metadata": {
    "deletable": false,
    "editable": false
   },
   "source": [
    "#### _Part (a):_ Estimate equation (5), and interpret your $\\hat \\beta_0$, $\\hat \\beta_1$, and $\\hat \\beta_2$ coefficients.\n"
   ]
  },
  {
   "cell_type": "code",
   "execution_count": 6,
   "metadata": {
    "deletable": false
   },
   "outputs": [],
   "source": [
    "# Type any code for part (a) here\n"
   ]
  },
  {
   "cell_type": "markdown",
   "metadata": {
    "deletable": false
   },
   "source": [
    "Add your written discussion for part (a) here."
   ]
  },
  {
   "cell_type": "markdown",
   "metadata": {
    "deletable": false,
    "editable": false
   },
   "source": [
    "#### _Part (b):_ How did your estimate of $\\hat \\beta_1$ change between equation (4) and equation (5)? Without performing any calculations, what information does this give you about the correlation between total expenditures and household size? (Explain your reasoning in no more than 4 sentences.)"
   ]
  },
  {
   "cell_type": "markdown",
   "metadata": {
    "deletable": false
   },
   "source": [
    "Add your written discussion for part (b) here."
   ]
  },
  {
   "cell_type": "markdown",
   "metadata": {
    "deletable": false,
    "editable": false
   },
   "source": [
    "#### _Part (c):_ Predict the expected value of food expenditure of a household with 3 members and total annual expenditure per capita of 10,000 quetzales using your estimates from equation (5)."
   ]
  },
  {
   "cell_type": "code",
   "execution_count": 13,
   "metadata": {
    "deletable": false
   },
   "outputs": [],
   "source": [
    "# Type any code for part (c) here\n"
   ]
  },
  {
   "cell_type": "markdown",
   "metadata": {
    "deletable": false
   },
   "source": [
    "Add your written discussion for part (c) here."
   ]
  },
  {
   "cell_type": "markdown",
   "metadata": {
    "deletable": false,
    "editable": false
   },
   "source": [
    "### Question 5.\n",
    "\n",
    "Contrast household energy expenditures in urban and rural areas by estimating the following equation:\n",
    "\n",
    "$$\\log(energyexp) = \\beta_0 + \\beta_1(rural) + u ~~~~~~~~~~~~~~~~~~~~~~~~~~~~~~~~~~~~~(6)$$\n",
    "\n",
    "$$\\log(energyexp) = \\beta_0 + \\beta_1(rural) + \\beta_2 \\log(totalexp) + u ~~~~~~~(7)$$"
   ]
  },
  {
   "cell_type": "markdown",
   "metadata": {
    "deletable": false,
    "editable": false
   },
   "source": [
    "#### _Part (a):_ Estimate equation (6) and interpret the $\\hat \\beta_1$ coefficient."
   ]
  },
  {
   "cell_type": "code",
   "execution_count": 8,
   "metadata": {
    "deletable": false
   },
   "outputs": [],
   "source": [
    "# Type any code for part (a) here\n"
   ]
  },
  {
   "cell_type": "markdown",
   "metadata": {
    "deletable": false
   },
   "source": [
    "Add your written discussion for part (a) here."
   ]
  },
  {
   "cell_type": "markdown",
   "metadata": {
    "deletable": false,
    "editable": false
   },
   "source": [
    "#### _Part (b):_ Estimate equation (7) and interpret the $\\hat \\beta_1$ coefficient. Compare the $\\hat \\beta_1$ coefficient to the one you obtained in equation (6). What does this reveal about the correlation between household expenditure and rural/urban living status?"
   ]
  },
  {
   "cell_type": "code",
   "execution_count": 12,
   "metadata": {
    "deletable": false
   },
   "outputs": [],
   "source": [
    "# Type any code for part (b) here\n"
   ]
  },
  {
   "cell_type": "markdown",
   "metadata": {
    "deletable": false
   },
   "source": [
    "Add your written discussion for part (b) here."
   ]
  },
  {
   "cell_type": "markdown",
   "metadata": {
    "deletable": false
   },
   "source": [
    "## Exercise 2. How have Computers Changed the Wage Structure in the Office?\n",
    "\n",
    "Many researchers have attempted to estimate important determinants of child education attainment. Li et al. (2005) use data from the China Health and Nutrition Survey to examine whether maternal childcare is an important determinant of child education attainment. One could think about a slightly different, yet related, scenario, where a researcher was interested in the effect of a mother’s education level on the health of her newborn child. One could estimate such a regression as follows:\n",
    "\n",
    "$$Z_i = \\beta_0 + \\beta_1 MothEduc + \\beta_2 Income + u~~~~~~~~~~~~~(1)$$\n",
    "\n",
    "where $Z_i$ corresponds to the z-score of a baby (a higher z-score corresponds to a healthier baby), $MothEduc_i$ is the number of school-years an individual’s mother has attained, and $income$ is the income level of the individual’s family when the individual was in elementary school."
   ]
  },
  {
   "cell_type": "markdown",
   "metadata": {
    "deletable": false,
    "editable": false
   },
   "source": [
    "#### _Part (a):_ What do you expect the sign of $\\beta_1$ to be in equation (1)? Why?"
   ]
  },
  {
   "cell_type": "markdown",
   "metadata": {
    "deletable": false
   },
   "source": [
    "Add your written discussion for part (a) here."
   ]
  },
  {
   "cell_type": "markdown",
   "metadata": {
    "deletable": false,
    "editable": false
   },
   "source": [
    "#### _Part (b):_ List three other factors that could influence whether a baby has a higher z-score."
   ]
  },
  {
   "cell_type": "markdown",
   "metadata": {
    "deletable": false
   },
   "source": [
    "Add your written discussion for part (b) here.\n"
   ]
  },
  {
   "cell_type": "markdown",
   "metadata": {
    "deletable": false,
    "editable": false
   },
   "source": [
    "#### _Part (c):_ Give an example of one factor that would induce $\\beta_1$ to be biased. State the direction of the bias and how you determined that direction."
   ]
  },
  {
   "cell_type": "markdown",
   "metadata": {
    "deletable": false
   },
   "source": [
    "Add your written discussion for part (c) here."
   ]
  },
  {
   "cell_type": "markdown",
   "metadata": {
    "deletable": false,
    "editable": false
   },
   "source": [
    "#### _Part (d):_ What are the four conditions that must be satisfied for $\\beta_1$ to be unbiased? Explain whether you believe each assumption is satisfied, and why or why not."
   ]
  },
  {
   "cell_type": "markdown",
   "metadata": {
    "deletable": false
   },
   "source": [
    "Add your written discussion for part (d) here."
   ]
  },
  {
   "cell_type": "markdown",
   "metadata": {
    "deletable": false,
    "editable": false
   },
   "source": [
    "Download a pdf copy of this notebook to combine with your excel files and upload to Gradescope. Click on __File > Download As > pdf (.pdf)__.\n",
    "\n",
    "_Note:_ If you get an error with the above method (I am working on resolving this with the Data Science Division), you can open a preview of your compiled notebook using __File > Print Preview__, and then \"print\" this as a pdf. You can also download as an html file, open it with a browser, and print that to a pdf. If you have trouble with this, please feel free to [send me an email](mailto:james.sears@berkeley.edu) and I can help. "
   ]
  },
  {
   "cell_type": "code",
   "execution_count": null,
   "metadata": {},
   "outputs": [],
   "source": []
  }
 ],
 "metadata": {
  "@webio": {
   "lastCommId": null,
   "lastKernelId": null
  },
  "kernelspec": {
   "display_name": "R",
   "language": "R",
   "name": "ir"
  },
  "language_info": {
   "codemirror_mode": "r",
   "file_extension": ".r",
   "mimetype": "text/x-r-source",
   "name": "R",
   "pygments_lexer": "r",
   "version": "4.1.0"
  },
  "toc": {
   "base_numbering": 1,
   "nav_menu": {},
   "number_sections": true,
   "sideBar": true,
   "skip_h1_title": false,
   "title_cell": "Table of Contents",
   "title_sidebar": "Contents",
   "toc_cell": false,
   "toc_position": {},
   "toc_section_display": true,
   "toc_window_display": false
  },
  "varInspector": {
   "cols": {
    "lenName": 16,
    "lenType": 16,
    "lenVar": 40
   },
   "kernels_config": {
    "python": {
     "delete_cmd_postfix": "",
     "delete_cmd_prefix": "del ",
     "library": "var_list.py",
     "varRefreshCmd": "print(var_dic_list())"
    },
    "r": {
     "delete_cmd_postfix": ") ",
     "delete_cmd_prefix": "rm(",
     "library": "var_list.r",
     "varRefreshCmd": "cat(var_dic_list()) "
    }
   },
   "types_to_exclude": [
    "module",
    "function",
    "builtin_function_or_method",
    "instance",
    "_Feature"
   ],
   "window_display": false
  }
 },
 "nbformat": 4,
 "nbformat_minor": 2
}
