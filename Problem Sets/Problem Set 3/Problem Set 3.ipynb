{
 "cells": [
  {
   "cell_type": "markdown",
   "metadata": {
    "deletable": false,
    "editable": false
   },
   "source": [
    "# EEP/IAS 118 - Problem Set 3\n",
    "\n",
    "## Due __Tuesday, July 13__ at 11:59pm. \n",
    "\n",
    "Submit materials (a copy of this notebook and any additional typed work/written scans) as one combined pdf on __Gradescope__. All work can be completed in this notebook. Make sure to run (`shift` + `enter`) all your answer cells before submission to make sure all your output is displayed.\n",
    "\n",
    "If you do not want to use this notebook, __your submitted PDF must include R code for all requested summary statistics/regression output AND the desired output itself.__ For example, if a question asks you to run a regression, I expect to see the code used to estimate the regression __and__ the output of the regression itself. You can download a compiled report from RStudio by going to __File > Compile Report__. \n",
    "\n",
    "Answers that only provide an estimated coefficient values without the code/output from which it was obtained will lose points."
   ]
  },
  {
   "cell_type": "markdown",
   "metadata": {
    "deletable": false,
    "editable": false
   },
   "source": [
    "# Exercise 1. The Value of Environmental Services\n",
    "\n",
    "## Guidelines\n",
    "\n",
    "This exercise is based on the paper [Does Hazardous Waste Matter? Evidence from the Housing Market and the Superfund Program (Greenstone and Gallagher 2008)](https://academic.oup.com/qje/article-abstract/123/3/951/1928203?redirectedFrom=fulltext). This paper explores individuals’ willingness to pay (WTP) for environmental quality by observing the impact of increasing environmental quality on housing prices. This method is known as __hedonic valuation__, whereby the price of a good is determined by each of its attributes. In the case of a house, its value is determined by all of its physical characteristics (e.g., number of bedrooms) as well as the characteristics of the neighborhood in which it is located (including environmental quality). For this paper, the change in environmental quality results from the cleanup of hazardous waste sites. The study focuses on Superfund sites, areas designated by the US government as contaminated by hazardous waste and that pose a hazard to environmental/human health . The EPA placed certain Superfund sites on the National Priorities List (NPL), which meant that these sites were legally required to undergo remediation. If individuals value environmental quality, then housing prices should increase after nearby NPL sites are cleaned up. To determine the extent to which individuals value the cleanup, we can compare housing close to a hazardous waste site that was cleaned up to homes near a similar waste site that was not cleaned up.\n"
   ]
  },
  {
   "cell_type": "markdown",
   "metadata": {
    "deletable": false,
    "editable": false
   },
   "source": [
    "## Data\n",
    "The dataset for this paper is saved to the ProblemSet3 folder as `Greenstone_Gallagher_PS3.dta`. The data include observations on 450 census tracts that are within 2 miles of a hazardous waste site. This includes census tracts where the site in question was on the NPL, and thus was legally required to be cleaned up, as well as those that were not on the NPL. The dataset posted on bcourses contains the following variables for each census tract for the year 2000:\n",
    "* $fips$: FIPS census tract identifier\n",
    "* $npl$: indicator for whether the site in a given census tract was placed on the NPL (=1 if site is on NPL, =0 otherwise)\n",
    "* $lnmdvalhs$: log median housing value\n",
    "* $owner\\_occupied$: % of housing that is owner occupied\n",
    "* $pop\\_den$: population density\n",
    "* $ba\\_or\\_better$: % of the population that has a BA or higher\n",
    "* $unemprt$: unemployment rate\n",
    "* $povrat$: poverty rate\n",
    "* $bedrms1-bedrms5$: % of housing with the indicated number of bedrooms\n",
    "* $bedrms\\_3orless$: % of housing with 3 bedrooms or less\n",
    "* $blt0\\_10yrs$: % of housing < 10 years old"
   ]
  },
  {
   "cell_type": "markdown",
   "metadata": {
    "deletable": false,
    "editable": false
   },
   "source": [
    "## R Tips \n",
    "\n",
    "A quick tip before starting: __xtable__ and __stargazer__ are two great packages for making tables. __xtable__ is great for turning a dataframe into a table output, while __stargazer__ is great for making a table of your regression results. I highly recommend exploring these packages when you are making your summary statistics table and regression output table in this problem set.\n",
    "\n",
    "__Note:__ if you begin this problem set early, these packages might not have been added to Datahub yet. If you receive a \"there is no package\" error, try again in another day or two."
   ]
  },
  {
   "cell_type": "markdown",
   "metadata": {
    "deletable": false,
    "editable": false
   },
   "source": [
    "## Preamble\n",
    "\n",
    "When writing __R__ code (and especially once we move over to RStudio), it can be helpful to include a preamble in your script where you load in your data and all the packages you'll use throughout the entire problem set. Go ahead and use the below code cell to load in your dataset (assign it any name you'd like), and load the packages you'll be using (we'll at least need __tidyverse__ and __haven__). "
   ]
  },
  {
   "cell_type": "code",
   "execution_count": 14,
   "metadata": {},
   "outputs": [],
   "source": [
    "# Insert your preamble code here.\n"
   ]
  },
  {
   "cell_type": "markdown",
   "metadata": {
    "deletable": false,
    "editable": false
   },
   "source": [
    "## Question 1.\n",
    "\n",
    "__Briefly describe your data set. Since these data use the impact of the NPL to estimate willingness to pay for environmental services, you a) want to look at the number of census tracts in both the NPL group and the non-NPL group (and the number in the sample overall), and b) compare the means of at least 4 characteristics (covariates) of these census tracts across the two groups. By compare, we mean report them and discuss whether they are similar across groups, and why you might expect such a result.__\n"
   ]
  },
  {
   "cell_type": "code",
   "execution_count": 13,
   "metadata": {},
   "outputs": [],
   "source": [
    "# Type your code for Question 1 here.\n"
   ]
  },
  {
   "cell_type": "markdown",
   "metadata": {},
   "source": [
    "Add your written answers for Question 1 here."
   ]
  },
  {
   "cell_type": "markdown",
   "metadata": {
    "deletable": false,
    "editable": false
   },
   "source": [
    "## Question 2.\n",
    "\n",
    "__We will now compare housing prices across the two groups. Draw a histogram of the (log) median housing price in each group. Comment on differences (be precise - and explain why the differences intuitively make sense).__\n"
   ]
  },
  {
   "cell_type": "code",
   "execution_count": 12,
   "metadata": {},
   "outputs": [],
   "source": [
    "# Type your code for Question 2 here.\n"
   ]
  },
  {
   "cell_type": "markdown",
   "metadata": {},
   "source": [
    "Add your written answers for Question 2 here."
   ]
  },
  {
   "cell_type": "markdown",
   "metadata": {
    "deletable": false,
    "editable": false
   },
   "source": [
    "# NOTE: Show work for all steps for Questions 3-6. You can use R to calculate the sample mean, variance, and # obs, and perform arithmetic operations (or do it by hand). No credit will be given if you use a canned confidence interval/hypothesis test function in R. Credit will be lost if you do not clearly show your steps."
   ]
  },
  {
   "cell_type": "markdown",
   "metadata": {
    "deletable": false,
    "editable": false
   },
   "source": [
    "## Question 3.\n",
    "\n",
    "__Compute an estimate for the mean of the variable $lnmdvalhs$ for the NPL group. Construct a 90% confidence interval for this mean. Give an interpretation of these results in a sentence.__\n"
   ]
  },
  {
   "cell_type": "code",
   "execution_count": 11,
   "metadata": {},
   "outputs": [],
   "source": [
    "# Include your code for Question 3 here.\n"
   ]
  },
  {
   "cell_type": "markdown",
   "metadata": {},
   "source": [
    "Add your written answers for Question 3 here."
   ]
  },
  {
   "cell_type": "markdown",
   "metadata": {
    "deletable": false,
    "editable": false
   },
   "source": [
    "## Question 4.\n",
    "\n",
    "__Call the difference in mean $lnmdvalhs$ between the NPL and non-NPL groups, $D$. State an estimator $\\hat D$ for $D$ and use the estimator to compute an estimate of $D$. Compute a standard error for $\\hat D$. Derive a 95% confidence interval for $D$ and interpret it in a sentence.__\n",
    "\n"
   ]
  },
  {
   "cell_type": "code",
   "execution_count": 10,
   "metadata": {
    "deletable": false
   },
   "outputs": [],
   "source": [
    "# Include your code for Question 4 here.\n"
   ]
  },
  {
   "cell_type": "markdown",
   "metadata": {},
   "source": [
    "Add your written answers for Question 4 here."
   ]
  },
  {
   "cell_type": "markdown",
   "metadata": {
    "deletable": false,
    "editable": false
   },
   "source": [
    "## Question 5.\n",
    "\n",
    "__Are housing values ($lnmdvalhs$) for the NPL group statistically different at the 5% level from housing values in the non-NPL group? (Recall the 5 step-procedure for hypothesis testing)__"
   ]
  },
  {
   "cell_type": "code",
   "execution_count": 9,
   "metadata": {
    "deletable": false
   },
   "outputs": [],
   "source": [
    "# Include your code for Question 5 here.\n"
   ]
  },
  {
   "cell_type": "markdown",
   "metadata": {
    "deletable": false
   },
   "source": [
    "Add your written answers for Question 5 here."
   ]
  },
  {
   "cell_type": "markdown",
   "metadata": {
    "deletable": false,
    "editable": false
   },
   "source": [
    "## Question 6.\n",
    "\n",
    "__Now, consider the case where we use one-sided test, such that the alternative hypothesis is now $Ha = D > 0$. Is there a scenario under which you would reject this null hypothesis, but not the null hypothesis in part 5? If so, what is the probability that this occurs. Use a picture in the explanation of your answer.__"
   ]
  },
  {
   "cell_type": "code",
   "execution_count": 8,
   "metadata": {
    "deletable": false
   },
   "outputs": [],
   "source": [
    "# Include your code for Question 6 here.\n"
   ]
  },
  {
   "cell_type": "markdown",
   "metadata": {
    "deletable": false
   },
   "source": [
    "Add your written answers for Question 6 here."
   ]
  },
  {
   "cell_type": "markdown",
   "metadata": {
    "deletable": false,
    "editable": false
   },
   "source": [
    "## Question 7. \n",
    "\n",
    "__Now we want to see how adding covariates on the right hand side of our equation affects the coefficient on the treatment indicator $npl$. We run the following regressions:__\n",
    "\n",
    "$$ lnmdvalhs_i = \\beta_0 + \\beta_1 npl_i + u_i~~~~~~~~~~~~~~~~~~~~~~~~~~~~~~~~~~~~~~~~~~~~~~~~~~~~~~~~~~~~~~~~(1)$$\n",
    "$$ lnmdvalhs_i = \\beta_0 + \\beta_1 npl_i + \\beta_2 pop_dens_i + u_i~~~~~~~~~~~~~~~~~~~~~~~~~~~~~~~~~~~~~~~~~(2)$$\n",
    "$$ lnmdvalhs_i = \\beta_0 + \\beta_1 npl_i + \\beta_2 pop_dens_i + \\beta_3 povrat + u_i~~~~~~~~~~~~~~~~~~~~~~(3)$$\n"
   ]
  },
  {
   "cell_type": "markdown",
   "metadata": {
    "deletable": false,
    "editable": false
   },
   "source": [
    "### Part (a): Interpret (SSS) the estimated coefficient $\\hat{\\beta}_1$ that you obtain from estimating equation (1)."
   ]
  },
  {
   "cell_type": "code",
   "execution_count": 7,
   "metadata": {
    "deletable": false
   },
   "outputs": [],
   "source": [
    "# Insert your code for part (a) here\n"
   ]
  },
  {
   "cell_type": "markdown",
   "metadata": {
    "deletable": false
   },
   "source": [
    "Add your written answers for part (a) here."
   ]
  },
  {
   "cell_type": "markdown",
   "metadata": {
    "deletable": false,
    "editable": false
   },
   "source": [
    "### _Part (b):_ Looking both at $R^2$ and the evolution of $\\hat \\beta_1$ as we add variables, i) comment on which variables matter in explaining the outcome, and which are likely correlated with the variable npl (go through equation by equation). ii) What does this tell you about how sites were selected to end up on the National Priorities List?"
   ]
  },
  {
   "cell_type": "code",
   "execution_count": 4,
   "metadata": {
    "deletable": false
   },
   "outputs": [],
   "source": [
    "# Type your code for part (b) here\n"
   ]
  },
  {
   "cell_type": "markdown",
   "metadata": {
    "deletable": false
   },
   "source": [
    "Add your written discussion for part (b) here."
   ]
  },
  {
   "cell_type": "markdown",
   "metadata": {
    "deletable": false,
    "editable": false
   },
   "source": [
    "# Exercise 2 \n",
    "\n",
    "The Public Policy Institute conducts statewide surveys across California to collect information about a variety of topics (health, environment, political attitudes, education). In July 2015, PPIC conducted a survey to gather information about the perceived onset of global warming among Californian voters. They asked the following question: Which of the following statements reflects your view of when the effects of global warming will begin to happen?\n",
    "Below is the percentage of the 1,300 respondents that believe the effects of global warming have already begun. We also report results broken out by race.\n",
    "\n",
    "| Group           | % Responding \"already begun\" | % of Total Respondents |\n",
    "|-----------------|------------------------------|------------------------|\n",
    "| __All Adults__      | __64%__                         | __100%__                   |\n",
    "|       Asian     | 62%                          | 13%                    |\n",
    "|       Black     | 64%                          | 8%                     |\n",
    "|       Latino    | 67%                          | 33%                    |\n",
    "|      White      | 55%                          | 46%                    |\n",
    "\n",
    "Consider first the overall result (all voters). Let $p$ be the fraction of Californian voters that believe that global warming has already begun.\n",
    "\n",
    "## NOTE: this question does not require R. If you do use R, you must show all steps used to calculate the relevant formulas from lecture. No credit will be given if a canned routine is used. Credit will be lost if values are given and work is not shown.  "
   ]
  },
  {
   "cell_type": "markdown",
   "metadata": {
    "deletable": false,
    "editable": false
   },
   "source": [
    "### Question 1. Use the survey results to estimate $p$. Also, estimate the standard error of your estimate."
   ]
  },
  {
   "cell_type": "markdown",
   "metadata": {},
   "source": [
    "Add your written answer for Question 1 here.\n"
   ]
  },
  {
   "cell_type": "markdown",
   "metadata": {
    "deletable": false,
    "editable": false
   },
   "source": [
    "### Question 2. Construct a 99% confidence interval for $p$. Interpret."
   ]
  },
  {
   "cell_type": "markdown",
   "metadata": {},
   "source": [
    "Add your written answer for Question 2 here."
   ]
  },
  {
   "cell_type": "markdown",
   "metadata": {
    "deletable": false,
    "editable": false
   },
   "source": [
    "### Question 3. Construct a 95% confidence interval for $p$. Is it larger or narrower than the 99% confidence interval? Why?"
   ]
  },
  {
   "cell_type": "markdown",
   "metadata": {},
   "source": [
    "Add your written answer for Question 3 here."
   ]
  },
  {
   "cell_type": "markdown",
   "metadata": {
    "deletable": false,
    "editable": false
   },
   "source": [
    "### Question 4. Is there statistical evidence that less than 60% of White adults believe that global warming has begun (to answer this question, use the 5 steps for hypothesis testing using a 5% significance level)"
   ]
  },
  {
   "cell_type": "markdown",
   "metadata": {
    "deletable": false
   },
   "source": [
    "Add your written answer for Question 4 here."
   ]
  },
  {
   "cell_type": "markdown",
   "metadata": {
    "deletable": false,
    "editable": false
   },
   "source": [
    "### Question 5. Is there statistical evidence that the Latino adults are more likely to believe that global warming has begun than black adults? Explain (to answer this question use the 5 steps for hypothesis testing)\n"
   ]
  },
  {
   "cell_type": "markdown",
   "metadata": {},
   "source": [
    "Add your written answer for Question 5 here."
   ]
  },
  {
   "cell_type": "code",
   "execution_count": 15,
   "metadata": {},
   "outputs": [],
   "source": [
    "# Add any code for Exercise 2 (Questions 1-5) here.\n"
   ]
  },
  {
   "cell_type": "markdown",
   "metadata": {
    "deletable": false,
    "editable": false
   },
   "source": [
    "## Downloading your Notebook\n",
    "\n",
    "Download a PDF copy of your notebook by using __File > Download as > PDF via Chrome (.pdf)__. It does not matter what browser you are using, you can use this command to download a copy of your notebook while on Chrome/Firefox/Opera/Edge/Safari/heck probably even Internet Explorer or Netscape Navigator.\n",
    "\n",
    "If you have a problem downloading your notebook or combining PDFs, or if you are using RStudio on your own computer and are unsure what sort of output I want, __please email me__."
   ]
  }
 ],
 "metadata": {
  "@webio": {
   "lastCommId": null,
   "lastKernelId": null
  },
  "kernelspec": {
   "display_name": "R",
   "language": "R",
   "name": "ir"
  },
  "language_info": {
   "codemirror_mode": "r",
   "file_extension": ".r",
   "mimetype": "text/x-r-source",
   "name": "R",
   "pygments_lexer": "r",
   "version": "4.1.0"
  },
  "toc": {
   "base_numbering": 1,
   "nav_menu": {},
   "number_sections": true,
   "sideBar": true,
   "skip_h1_title": false,
   "title_cell": "Table of Contents",
   "title_sidebar": "Contents",
   "toc_cell": false,
   "toc_position": {},
   "toc_section_display": true,
   "toc_window_display": false
  },
  "varInspector": {
   "cols": {
    "lenName": 16,
    "lenType": 16,
    "lenVar": 40
   },
   "kernels_config": {
    "python": {
     "delete_cmd_postfix": "",
     "delete_cmd_prefix": "del ",
     "library": "var_list.py",
     "varRefreshCmd": "print(var_dic_list())"
    },
    "r": {
     "delete_cmd_postfix": ") ",
     "delete_cmd_prefix": "rm(",
     "library": "var_list.r",
     "varRefreshCmd": "cat(var_dic_list()) "
    }
   },
   "types_to_exclude": [
    "module",
    "function",
    "builtin_function_or_method",
    "instance",
    "_Feature"
   ],
   "window_display": false
  }
 },
 "nbformat": 4,
 "nbformat_minor": 2
}
