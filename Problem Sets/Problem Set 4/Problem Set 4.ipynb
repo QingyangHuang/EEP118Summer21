{
 "cells": [
  {
   "cell_type": "markdown",
   "metadata": {},
   "source": [
    "# EEP/IAS 118 - Problem Set 4\n",
    "\n",
    "## Due __Tuesday, July 27__ at 11:59pm. \n",
    "\n",
    "Submit materials (a copy of this notebook and any additional typed work/written scans) as one combined pdf on __Gradescope__. All work can be completed in this notebook. Make sure to run (`shift` + `enter`) all your answer cells before submission to make sure all your output is displayed.\n",
    "\n",
    "If you do not want to use this notebook, __your submitted PDF must include R code for all requested summary statistics/regression output AND the desired output itself.__ For example, if a question asks you to run a regression, I expect to see the code used to estimate the regression __and__ the output of the regression itself. You can download a compiled report from RStudio by going to __File > Compile Report__. \n",
    "\n",
    "Answers that only provide an estimated coefficient values without the code/output from which it was obtained will lose points."
   ]
  },
  {
   "cell_type": "markdown",
   "metadata": {},
   "source": [
    "## R Tips \n",
    "\n",
    "* You can type `?function()` for a given function and execute the cell to receive a popup of documentation on that function.\n",
    "* If used after a regression with the `lm()` command that you name `reg_name`, running `reg_name$fitted.values` will output a vector of fitted values ($\\hat y$) that is in the same order as the observations in your dataset (i.e. the first fitted value corresponds to the first observation in your data).\n",
    "* The function `lm.beta()` in teh package __lm.beta__ will let us run standardized regressions. First, run the regression per usual using `lm()`, saving it to memory as `reg_name`. Then, run`lm.beta(reg_name)` to get the standardized version. If you execute it without saving to memory, you will obtain a regression table for the standardized variables, and if you save it to memory as `reg_name_beta` you can access the coefficients with `reg_name_beta$standardized.coefficients`.\n",
    "* `cor(var1, var2)` prints the matrix of correlation between the two variables `var1` and `var2`."
   ]
  },
  {
   "cell_type": "markdown",
   "metadata": {
    "deletable": false
   },
   "source": [
    "# Exercise 1. Fuel Consumption\n",
    "\n",
    "## Guidelines\n",
    "\n",
    "This exercise uses the `Cars_PS4.dta` data, which contains observations for 200 cars on their miles per gallon $(mpg)$, their number of cylinders $(cyl)$, their engine displacement (some technical parameter of the car related to the size of the piston and the number of cylinder), horsepower $(hp)$, the vehicle weight in pounds $(wght)$, and the price in dollars $(price)$."
   ]
  },
  {
   "cell_type": "markdown",
   "metadata": {},
   "source": [
    "## Preamble\n",
    "\n",
    "When writing **R** code (and especially once we move over to RStudio), it can be helpful to include a preamble in your script where you load in your data and all the packages you'll use throughout the entire problem set. Go ahead and use the below code cell to load in your dataset (assign it any name you'd like), and load the packages you'll be using (we'll at least need __tidyverse__ and __haven__). "
   ]
  },
  {
   "cell_type": "code",
   "execution_count": 13,
   "metadata": {},
   "outputs": [
    {
     "data": {
      "text/html": [
       "<table>\n",
       "<caption>A tibble: 6 × 6</caption>\n",
       "<thead>\n",
       "\t<tr><th scope=col>mpg</th><th scope=col>cyl</th><th scope=col>hp</th><th scope=col>disp</th><th scope=col>wght</th><th scope=col>price</th></tr>\n",
       "\t<tr><th scope=col>&lt;dbl&gt;</th><th scope=col>&lt;dbl&gt;</th><th scope=col>&lt;dbl&gt;</th><th scope=col>&lt;dbl&gt;</th><th scope=col>&lt;dbl&gt;</th><th scope=col>&lt;dbl&gt;</th></tr>\n",
       "</thead>\n",
       "<tbody>\n",
       "\t<tr><td>23.0</td><td>4</td><td> 97</td><td> 54</td><td>2254</td><td>7523.984</td></tr>\n",
       "\t<tr><td>17.6</td><td>8</td><td>302</td><td>129</td><td>3725</td><td>9146.851</td></tr>\n",
       "\t<tr><td>23.0</td><td>4</td><td>120</td><td> 97</td><td>2506</td><td>7752.670</td></tr>\n",
       "\t<tr><td>20.2</td><td>6</td><td>200</td><td> 88</td><td>3060</td><td>8429.475</td></tr>\n",
       "\t<tr><td>18.0</td><td>6</td><td>225</td><td> 95</td><td>3785</td><td>9255.319</td></tr>\n",
       "\t<tr><td>14.0</td><td>8</td><td>304</td><td>150</td><td>3672</td><td>9125.904</td></tr>\n",
       "</tbody>\n",
       "</table>\n"
      ],
      "text/latex": [
       "A tibble: 6 × 6\n",
       "\\begin{tabular}{r|llllll}\n",
       " mpg & cyl & hp & disp & wght & price\\\\\n",
       " <dbl> & <dbl> & <dbl> & <dbl> & <dbl> & <dbl>\\\\\n",
       "\\hline\n",
       "\t 23.0 & 4 &  97 &  54 & 2254 & 7523.984\\\\\n",
       "\t 17.6 & 8 & 302 & 129 & 3725 & 9146.851\\\\\n",
       "\t 23.0 & 4 & 120 &  97 & 2506 & 7752.670\\\\\n",
       "\t 20.2 & 6 & 200 &  88 & 3060 & 8429.475\\\\\n",
       "\t 18.0 & 6 & 225 &  95 & 3785 & 9255.319\\\\\n",
       "\t 14.0 & 8 & 304 & 150 & 3672 & 9125.904\\\\\n",
       "\\end{tabular}\n"
      ],
      "text/markdown": [
       "\n",
       "A tibble: 6 × 6\n",
       "\n",
       "| mpg &lt;dbl&gt; | cyl &lt;dbl&gt; | hp &lt;dbl&gt; | disp &lt;dbl&gt; | wght &lt;dbl&gt; | price &lt;dbl&gt; |\n",
       "|---|---|---|---|---|---|\n",
       "| 23.0 | 4 |  97 |  54 | 2254 | 7523.984 |\n",
       "| 17.6 | 8 | 302 | 129 | 3725 | 9146.851 |\n",
       "| 23.0 | 4 | 120 |  97 | 2506 | 7752.670 |\n",
       "| 20.2 | 6 | 200 |  88 | 3060 | 8429.475 |\n",
       "| 18.0 | 6 | 225 |  95 | 3785 | 9255.319 |\n",
       "| 14.0 | 8 | 304 | 150 | 3672 | 9125.904 |\n",
       "\n"
      ],
      "text/plain": [
       "  mpg  cyl hp  disp wght price   \n",
       "1 23.0 4    97  54  2254 7523.984\n",
       "2 17.6 8   302 129  3725 9146.851\n",
       "3 23.0 4   120  97  2506 7752.670\n",
       "4 20.2 6   200  88  3060 8429.475\n",
       "5 18.0 6   225  95  3785 9255.319\n",
       "6 14.0 8   304 150  3672 9125.904"
      ]
     },
     "metadata": {},
     "output_type": "display_data"
    },
    {
     "data": {
      "text/html": [
       "'/home/rstudio/ENVECON-118/Summer-19/ProblemSet4'"
      ],
      "text/latex": [
       "'/home/rstudio/ENVECON-118/Summer-19/ProblemSet4'"
      ],
      "text/markdown": [
       "'/home/rstudio/ENVECON-118/Summer-19/ProblemSet4'"
      ],
      "text/plain": [
       "[1] \"/home/rstudio/ENVECON-118/Summer-19/ProblemSet4\""
      ]
     },
     "metadata": {},
     "output_type": "display_data"
    }
   ],
   "source": [
    "library(tidyverse)\n",
    "library(haven)\n",
    "\n",
    "cars <- read_dta(\"Cars_PS4.dta\")\n",
    "head(cars)\n",
    "getwd()"
   ]
  },
  {
   "cell_type": "markdown",
   "metadata": {},
   "source": [
    "## Question 1.\n",
    "\n",
    "### Estimate the model:\n",
    "\n",
    "$$ mpg= \\beta_0 + \\beta_1wght + \\beta_2cyl + u $$\n",
    "\n",
    "\n",
    "#### (a)  Print the regression summary table to the notebook and write out the estimated equation.\n"
   ]
  },
  {
   "cell_type": "code",
   "execution_count": 12,
   "metadata": {},
   "outputs": [
    {
     "data": {
      "text/plain": [
       "\n",
       "Call:\n",
       "lm(formula = mpg ~ wght + cyl + disp, data = cars)\n",
       "\n",
       "Residuals:\n",
       "    Min      1Q  Median      3Q     Max \n",
       "-8.2366 -2.7924 -0.4305  2.2926 15.3742 \n",
       "\n",
       "Coefficients:\n",
       "             Estimate Std. Error t value Pr(>|t|)    \n",
       "(Intercept) 48.770899   1.486424  32.811  < 2e-16 ***\n",
       "wght        -0.006095   0.000992  -6.144 4.42e-09 ***\n",
       "cyl          0.141052   0.405159   0.348    0.728    \n",
       "disp        -0.080768   0.019329  -4.179 4.41e-05 ***\n",
       "---\n",
       "Signif. codes:  0 ‘***’ 0.001 ‘**’ 0.01 ‘*’ 0.05 ‘.’ 0.1 ‘ ’ 1\n",
       "\n",
       "Residual standard error: 4.083 on 196 degrees of freedom\n",
       "Multiple R-squared:  0.6336,\tAdjusted R-squared:  0.628 \n",
       "F-statistic:   113 on 3 and 196 DF,  p-value: < 2.2e-16\n"
      ]
     },
     "metadata": {},
     "output_type": "display_data"
    }
   ],
   "source": [
    "reg <- lm(mpg ~ wght + cyl + disp, data = cars)\n",
    "summary(reg)"
   ]
  },
  {
   "cell_type": "markdown",
   "metadata": {},
   "source": [
    "Estimated equation is above."
   ]
  },
  {
   "cell_type": "markdown",
   "metadata": {},
   "source": [
    "#### (b) Comment on your results (SSS for both slope parameters)."
   ]
  },
  {
   "cell_type": "markdown",
   "metadata": {},
   "source": [
    "Add your written answers for 1b here."
   ]
  },
  {
   "cell_type": "markdown",
   "metadata": {},
   "source": [
    "#### (c) Compare the relative effect of weight and cylinder in determining fuel efficiency (hint: think standardizing)."
   ]
  },
  {
   "cell_type": "code",
   "execution_count": 3,
   "metadata": {},
   "outputs": [],
   "source": [
    "# Insert your code for 1c here."
   ]
  },
  {
   "cell_type": "markdown",
   "metadata": {},
   "source": [
    "Add any written answer for 1c here."
   ]
  },
  {
   "cell_type": "markdown",
   "metadata": {},
   "source": [
    "#### (d)  Without re-estimating the model above, what is the effect of vehicle weight on fuel efficiency when vehicle weight is measures in TONS (where 1 ton$=$2000 pounds)?  Answer this question by commenting on SSS (and when discussing significance please explicitly mention why significance does or does not change when vehicle weight is converted to tons). "
   ]
  },
  {
   "cell_type": "markdown",
   "metadata": {},
   "source": [
    "Add your written answers for 1d here."
   ]
  },
  {
   "cell_type": "markdown",
   "metadata": {},
   "source": [
    "## Question 2.\n",
    "\n",
    "### Use your results above to:\n",
    "\n",
    "#### (a) Predict the average fuel efficiency (mpg) of the Mazda Tribute SUVs that weighs 2500lbs and has 6 cylinders. \n",
    "\n"
   ]
  },
  {
   "cell_type": "code",
   "execution_count": 4,
   "metadata": {
    "deletable": false
   },
   "outputs": [],
   "source": [
    "# Include your code for Question 2a here.\n"
   ]
  },
  {
   "cell_type": "markdown",
   "metadata": {},
   "source": [
    "Add your written answers for Question 2a here."
   ]
  },
  {
   "cell_type": "markdown",
   "metadata": {},
   "source": [
    "#### (b) Run a regression that allows you to put a 90\\% confidence interval around this predicted value. "
   ]
  },
  {
   "cell_type": "code",
   "execution_count": 9,
   "metadata": {
    "deletable": false
   },
   "outputs": [],
   "source": [
    "# Include your code for Question 2b here.\n"
   ]
  },
  {
   "cell_type": "markdown",
   "metadata": {
    "deletable": false
   },
   "source": [
    "Add your written answers for Question 2b here."
   ]
  },
  {
   "cell_type": "markdown",
   "metadata": {},
   "source": [
    "## Question 3.\n",
    "\n",
    "\n",
    "###  Let $mpg^0$ be the unknown fuel efficiency of one particular Mazda Tribute SUV that weighs 2500lbs and has 6 cylinders. \n",
    "\n",
    "\n",
    "#### (a)  Find a 90\\% confidence interval for $mpg^0$. \n"
   ]
  },
  {
   "cell_type": "code",
   "execution_count": 8,
   "metadata": {
    "deletable": false
   },
   "outputs": [],
   "source": [
    "# Include your code for Question 3a here.\n"
   ]
  },
  {
   "cell_type": "markdown",
   "metadata": {
    "deletable": false
   },
   "source": [
    "Add your written answers for Question 3a here."
   ]
  },
  {
   "cell_type": "markdown",
   "metadata": {},
   "source": [
    "#### (b)  Compare the width of this confidence interval with what you found in the previous question. Explain in no more than 3 sentences.\n"
   ]
  },
  {
   "cell_type": "code",
   "execution_count": 8,
   "metadata": {},
   "outputs": [],
   "source": [
    "# Include your code for Question 3b here.\n"
   ]
  },
  {
   "cell_type": "markdown",
   "metadata": {},
   "source": [
    "Add your written answers for Question 3b here."
   ]
  },
  {
   "cell_type": "markdown",
   "metadata": {},
   "source": [
    "## Question 4. \n",
    "\n",
    "### Plot the graph of fuel efficiency $(mpg)$ against $(wght)$. What functional form might be more appropriate than a linear form for explaining fuel efficiency?"
   ]
  },
  {
   "cell_type": "code",
   "execution_count": 7,
   "metadata": {
    "deletable": false
   },
   "outputs": [],
   "source": [
    "# Include your code for Question 4 here\n"
   ]
  },
  {
   "cell_type": "markdown",
   "metadata": {
    "deletable": false
   },
   "source": [
    "Add your written answers for Question 4 here."
   ]
  },
  {
   "cell_type": "markdown",
   "metadata": {},
   "source": [
    "## Question 5.\n",
    "\n",
    "### Now estimate the following model\n",
    "\n",
    "$$ ln(mpg)=\\beta_0+\\beta_1wght  +\\beta_1cyl+ u  $$\n",
    "\n",
    "### Print the regression summary table to the notebook and write out the estimated equation.\n"
   ]
  },
  {
   "cell_type": "code",
   "execution_count": 4,
   "metadata": {
    "deletable": false
   },
   "outputs": [],
   "source": [
    "# Type your code for Question 5 here\n"
   ]
  },
  {
   "cell_type": "markdown",
   "metadata": {
    "deletable": false
   },
   "source": [
    "Add your written discussion for Question 5 here."
   ]
  },
  {
   "cell_type": "markdown",
   "metadata": {},
   "source": [
    "## Question 6.\n",
    "\n",
    "### For explaining variation in $mpg$, decide whether you prefer the model from question 1 or the model from question 5."
   ]
  },
  {
   "cell_type": "markdown",
   "metadata": {},
   "source": [
    "Add your written discussion for Question 6 here."
   ]
  },
  {
   "cell_type": "markdown",
   "metadata": {},
   "source": [
    "## Question 7.\n",
    "\n",
    "###  Let's think about adding horsepower into the linear model, and estimate the following model: \n",
    "\n",
    "$$ mpg= \\beta_0 + \\beta_1wght + \\beta_2cyl + \\beta_3 hp+ u $$\n",
    "\n",
    "### Comment on what happens to the significance of $cyl$. What accounts for the change in the standard errors of $cyl$? (No more than 3 sentences). \n"
   ]
  },
  {
   "cell_type": "code",
   "execution_count": 4,
   "metadata": {},
   "outputs": [],
   "source": [
    "# Type your code for Question 7 here\n"
   ]
  },
  {
   "cell_type": "markdown",
   "metadata": {},
   "source": [
    "Add your written discussion for Question 7 here."
   ]
  },
  {
   "cell_type": "markdown",
   "metadata": {},
   "source": [
    "## Question 8.\n",
    "\n",
    "###  Finally let's think about what determines car price by estimating the following two equations:\n",
    "\n",
    "$$ price = \\beta_0 + \\beta_1mpg+ u$$\n",
    "\n",
    "$$ price = \\beta_0 + \\beta_1mpg + \\beta_2wght+u$$\n",
    "\n",
    "#### (a) Write out the two estimated equations"
   ]
  },
  {
   "cell_type": "code",
   "execution_count": 4,
   "metadata": {},
   "outputs": [],
   "source": [
    "# Type your code for part (a) here\n"
   ]
  },
  {
   "cell_type": "markdown",
   "metadata": {},
   "source": [
    "Add your written discussion for part (a) here."
   ]
  },
  {
   "cell_type": "markdown",
   "metadata": {},
   "source": [
    "#### (b)  Comment on how the coefficient on $mpg$ changes when we add in the variable $wgt$.  What does this tell us about the correlation between $mpg$ and $wght$? (No more than 3 sentences). "
   ]
  },
  {
   "cell_type": "markdown",
   "metadata": {},
   "source": [
    "Add your written discussion for part (b) here."
   ]
  },
  {
   "cell_type": "markdown",
   "metadata": {},
   "source": [
    "# Exercise 2:  Do Legislators with More Daughters Vote More Liberally on Women's Issues?\n",
    "\n",
    "## Background\n",
    "\n",
    "The data for this exercise were used in Ebonya Washington's paper: \"Female Socialization: How Daughters Affect Their Legislator Fathers' Voting on Women's Issues.\"  published in the American Economic Review in 2008. The paper asks whether having daughters influences the voting behavior of members of the US Congress. The hypothesis is that having (more) daughters makes legislators more likely to vote liberally on issues concerning women.\n",
    "\n",
    "For this exercise, we will focus on votes that took place in the 108th Congress, which held session in 2003/04. As a measure of a liberal voting record, we use scores assigned by the American Association of University Women (AAUW), a liberal group that concerns itself with issues of interest to women. For the 108th Congress, the AAUW selected 9 pieces of legislation in the areas of education, equality and reproductive rights. The AAUW then assigned a score to each member of Congress. The scores range from 0 to 100 and measure the percentage of times the legislator voted in favor of the position held by the AAUW.\n",
    "\n",
    " The dataset `Legislators_PS4.dta` contains the following characteristics for 320 members of the 108th Congress:\n",
    " \n",
    " * $ngirls$ number of daughters\n",
    " * $totchi$ number of children\n",
    " * $age$ Age\n",
    " * $female$ indicator for being female\n",
    " * $repub$ indicator for being a Republican\n",
    " *  $moredef$ proportion of people in the legislator's district who are in favor of \"more spending on\n",
    "defense\" \n",
    " *  $aauw$ AAUW score"
   ]
  },
  {
   "cell_type": "markdown",
   "metadata": {},
   "source": [
    "### Question 1. Estimate and report results for the following regression models:\n",
    "\n",
    "\\begin{align}\n",
    "aauw&=\\beta_0 +\\beta_1ngirls+u  ~~~~~~~~~~~~~~~~~~~~~~~~~~~~~~~~~~~~~~~~~~~~~~~~~~~~~~~~~~~~~~~~ (1) \\\\\n",
    "aauw&=\\beta_0 +\\beta_1ngirls+\\beta_2totchi+u ~~~~~~~~~~~~~~~~~~~~~~~~~~~~~~~~~~~~~~~~~~~~~~~(2)  \\\\\n",
    "aauw&=\\beta_0 +\\beta_1ngirls+\\beta_2totchi+\\beta_3female+\\beta_4repub+u\\ \\ \\ \\ ~~\\ \\ \\ (3) \n",
    "\\end{align}"
   ]
  },
  {
   "cell_type": "code",
   "execution_count": null,
   "metadata": {},
   "outputs": [],
   "source": [
    "# Add Code for Question 1 here."
   ]
  },
  {
   "cell_type": "markdown",
   "metadata": {},
   "source": [
    "Add your written answer for Question 1 here.\n"
   ]
  },
  {
   "cell_type": "markdown",
   "metadata": {},
   "source": [
    "### Question 2. Look at the results of the above regressions. \n",
    "\n",
    "#### (a) Briefly interpret $\\beta_1$ in the first model (remember SSS).\n"
   ]
  },
  {
   "cell_type": "markdown",
   "metadata": {},
   "source": [
    "Add your written answer for part (a) here."
   ]
  },
  {
   "cell_type": "markdown",
   "metadata": {},
   "source": [
    "#### (b) Discuss how the coefficient on $\\beta_1$ changes across the three models.  What do you think explains the difference in $\\beta_1$ between the first and second model? \n"
   ]
  },
  {
   "cell_type": "markdown",
   "metadata": {},
   "source": [
    "Add your written answer for Question (b) here."
   ]
  },
  {
   "cell_type": "markdown",
   "metadata": {},
   "source": [
    "### Question 3. Estimate the following quadratic regression of voting scores on age:\n",
    "\n",
    "$$aauw = \\beta_0 + \\beta_1 ngirls+ \\beta_2 totchi  + \\beta_3 age + \\beta_4 age^2 + u \\ \\ \\ \\ \\ \\ \\ (4) $$\n",
    "\n",
    "#### (a) Comment on the sign of $\\beta_3$ and $\\beta_4$.  What does this tell us about the relationship between age and $aauw$? "
   ]
  },
  {
   "cell_type": "code",
   "execution_count": 5,
   "metadata": {},
   "outputs": [],
   "source": [
    "# Add your code for part (a) here."
   ]
  },
  {
   "cell_type": "markdown",
   "metadata": {
    "deletable": false
   },
   "source": [
    "Add your written answer for part (a) here."
   ]
  },
  {
   "cell_type": "markdown",
   "metadata": {},
   "source": [
    "#### (b) What is the marginal effect of age on $aauw$ (provide the mathematical formula). "
   ]
  },
  {
   "cell_type": "code",
   "execution_count": 7,
   "metadata": {},
   "outputs": [],
   "source": [
    "# Add your code for part (b) here."
   ]
  },
  {
   "cell_type": "markdown",
   "metadata": {},
   "source": [
    "Add your written answer for part (b) here."
   ]
  },
  {
   "cell_type": "markdown",
   "metadata": {},
   "source": [
    "#### (c)  Evaluate the marginal effect of age on $aauw$ for someone with the mean age (53.79614)"
   ]
  },
  {
   "cell_type": "code",
   "execution_count": 15,
   "metadata": {},
   "outputs": [],
   "source": [
    "# Add your code for part (c) here."
   ]
  },
  {
   "cell_type": "markdown",
   "metadata": {},
   "source": [
    "Add your written answer for part (c) here."
   ]
  },
  {
   "cell_type": "markdown",
   "metadata": {},
   "source": [
    "#### (d)  At what age does the marginal effect of $age$ on $aauw$  become positive? "
   ]
  },
  {
   "cell_type": "code",
   "execution_count": 15,
   "metadata": {},
   "outputs": [],
   "source": [
    "# Add your code for part (d) here."
   ]
  },
  {
   "cell_type": "markdown",
   "metadata": {},
   "source": [
    "Add your written answer for part (d) here."
   ]
  },
  {
   "cell_type": "markdown",
   "metadata": {},
   "source": [
    "## Question 4. \n",
    "\n",
    "### Compare equations (3) to equation (4).  In no more than 3 sentences please explain why you would choose one model over the other?"
   ]
  },
  {
   "cell_type": "markdown",
   "metadata": {},
   "source": [
    "Add your written answer for Question 4 here."
   ]
  },
  {
   "cell_type": "markdown",
   "metadata": {},
   "source": [
    "## Downloading your Notebook\n",
    "\n",
    "Download a PDF copy of your notebook by using __File > Download as > PDF via Chrome (.pdf)__. It does not matter what browser you are using, you can use this command to download a copy of your notebook while on Chrome/Firefox/Opera/Edge/Safari/heck probably even Internet Explorer or Netscape Navigator.\n",
    "\n",
    "If you have a problem downloading your notebook or combining PDFs, or if you are using RStudio on your own computer and are unsure what sort of output I want, __please email me__."
   ]
  }
 ],
 "metadata": {
  "@webio": {
   "lastCommId": null,
   "lastKernelId": null
  },
  "kernelspec": {
   "display_name": "R",
   "language": "R",
   "name": "ir"
  },
  "language_info": {
   "codemirror_mode": "r",
   "file_extension": ".r",
   "mimetype": "text/x-r-source",
   "name": "R",
   "pygments_lexer": "r",
   "version": "3.6.0"
  },
  "toc": {
   "base_numbering": 1,
   "nav_menu": {},
   "number_sections": true,
   "sideBar": true,
   "skip_h1_title": false,
   "title_cell": "Table of Contents",
   "title_sidebar": "Contents",
   "toc_cell": false,
   "toc_position": {},
   "toc_section_display": true,
   "toc_window_display": false
  },
  "varInspector": {
   "cols": {
    "lenName": 16,
    "lenType": 16,
    "lenVar": 40
   },
   "kernels_config": {
    "python": {
     "delete_cmd_postfix": "",
     "delete_cmd_prefix": "del ",
     "library": "var_list.py",
     "varRefreshCmd": "print(var_dic_list())"
    },
    "r": {
     "delete_cmd_postfix": ") ",
     "delete_cmd_prefix": "rm(",
     "library": "var_list.r",
     "varRefreshCmd": "cat(var_dic_list()) "
    }
   },
   "types_to_exclude": [
    "module",
    "function",
    "builtin_function_or_method",
    "instance",
    "_Feature"
   ],
   "window_display": false
  }
 },
 "nbformat": 4,
 "nbformat_minor": 2
}
