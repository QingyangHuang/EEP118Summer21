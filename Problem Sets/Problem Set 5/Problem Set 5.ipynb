{
 "cells": [
  {
   "cell_type": "markdown",
   "metadata": {},
   "source": [
    "# EEP/IAS 118 - Problem Set 5\n",
    "\n",
    "## Due __Tuesday, August 3__ at 11:59pm. \n",
    "\n",
    "Submit materials (a copy of this notebook and any additional typed work/written scans) as one combined pdf on __Gradescope__. All work can be completed in this notebook. Make sure to run (`shift` + `enter`) all your answer cells before submission to make sure all your output is displayed.\n",
    "\n",
    "If you do not want to use this notebook, __your submitted PDF must include R code for all requested summary statistics/regression output AND the desired output itself.__ For example, if a question asks you to run a regression, I expect to see the code used to estimate the regression __and__ the output of the regression itself. You can download a compiled report from RStudio by going to __File > Compile Report__. \n",
    "\n",
    "Answers that only provide an estimated coefficient values without the code/output from which it was obtained will lose points."
   ]
  },
  {
   "cell_type": "markdown",
   "metadata": {},
   "source": [
    "## R Tips \n",
    "\n",
    "* You can type `?function()` for a given function and execute the cell to receive a popup of documentation on that function.\n",
    "* If used after a regression with the `lm()` command that you name `reg_name`, running `reg_name$fitted.values` will output a vector of fitted values ($\\hat y$) that is in the same order as the observations in your dataset (i.e. the first fitted value corresponds to the first observation in your data).\n",
    "* The function `lm.beta()` in teh package __lm.beta__ will let us run standardized regressions. First, run the regression per usual using `lm()`, saving it to memory as `reg_name`. Then, run`lm.beta(reg_name)` to get the standardized version. If you execute it without saving to memory, you will obtain a regression table for the standardized variables, and if you save it to memory as `reg_name_beta` you can access the coefficients with `reg_name_beta$standardized.coefficients`.\n",
    "* `cor(var1, var2)` prints the matrix of correlation between the two variables `var1` and `var2`."
   ]
  },
  {
   "cell_type": "markdown",
   "metadata": {
    "deletable": false
   },
   "source": [
    "# Exercise 1. The Effect of Minimum Wage on Employment - Difference-in-Differences\n",
    "\n",
    "## Background\n",
    "\n",
    "\n",
    "In this exercise, we are going to replicate the results of a classic paper in the labor economics literature. This paper answers a very important (and often controversial!) question in economic policy: does increasing the minimum wage increase unemployment (or conversely, reduce employment)? Proponents of minimum wage laws point to the benefits for individuals who remain employed in low wage jobs. Opponents of minimum wage laws argue that the increases in labor costs result in higher unemployment because employers hire less employees to offset the cost increases. Card and Krueger (1994) test this latter hypothesis using the minimum wage increase in New Jersey that went into effect in 1992. They surveyed fast food establishments in New Jersey and Pennsylvania both before and after the policy came into effect, collecting information on wages, employment and prices. While the interviews all occurred in 1992, the post-period interviews are coded as 1993 in your data for the sake of simplicity. This data is then used to obtain a difference-in-differences estimate of the effect of minimum wage laws on employment. \n",
    "\n",
    "The dataset is saved as `Card_Krueger_PS5.dta` and contains the following variables:\n",
    "    \n",
    "\n",
    "|    Variable Name     | Description                       | \n",
    "|----------------------|-----------------------------------|\n",
    "| $store\\_id $      | Unique Store ID      |\n",
    "| $year    $ | Year    |\n",
    "| $state   $  | Dummy =1 if store is located in New Jersey, =0 for Pennsylvania     |\n",
    "| $shore  $  | Dummy =1 if store is located on New Jersey Shore, =0 otherwise    |\n",
    "| $empft   $   | Number of full-time employees in a store    |\n",
    "| $emppt  $    | Number of part-time employees in a store    |\n",
    "| $nmgrs  $    | Number of managers in a store    |\n",
    "| $wage\\_st $     | Starting wage in a store    |\n",
    "| $pentree $    | Price of an entree   |\n",
    "| $fte  $    | Number of full-time equivalent employees in a store ($empft+0.5emppt+nmgrs$)   |\n"
   ]
  },
  {
   "cell_type": "markdown",
   "metadata": {},
   "source": [
    "## Preamble\n",
    "\n",
    "When writing **R** code (and especially once we move over to RStudio), it can be helpful to include a preamble in your script where you load in your data and all the packages you'll use throughout the entire problem set. Go ahead and use the below code cell to load in your dataset (assign it any name you'd like), and load the packages you'll be using (we'll at least need __tidyverse__ and __haven__). "
   ]
  },
  {
   "cell_type": "code",
   "execution_count": 10,
   "metadata": {},
   "outputs": [],
   "source": [
    "# Add your preamble code here.\n"
   ]
  },
  {
   "cell_type": "markdown",
   "metadata": {},
   "source": [
    "## Question 1.\n",
    "\n",
    "### Generate a summary table with two columns and two rows. There should be two columns:  one for New Jersey (Treatment column) and one for Pennsylvania (Control column) and two rows: one for the pre-period (year 1992), one for the post-period (years 1993). Within each cell, compute the mean number of full-time equivalent employees (the variable $fte$)."
   ]
  },
  {
   "cell_type": "code",
   "execution_count": 9,
   "metadata": {},
   "outputs": [],
   "source": [
    "# Input code for Question 1 here.\n"
   ]
  },
  {
   "cell_type": "markdown",
   "metadata": {},
   "source": [
    "Add your written answer for Question 1 here."
   ]
  },
  {
   "cell_type": "markdown",
   "metadata": {},
   "source": [
    "## Question 2.\n",
    "\n",
    "### State the difference-in-differences estimator for the change in full-time equivalent employees in terms of the following quantities $\\bar Y_{NJ, pre}, \\bar Y_{NJ, post}, \\bar Y_{Penn, pre}, \\bar Y_{Penn, post}$, where $\\bar Y$ refers to the mean of $fte$. Using the means reported in part 1, calculate a value for the estimator you just proposed."
   ]
  },
  {
   "cell_type": "code",
   "execution_count": 8,
   "metadata": {},
   "outputs": [],
   "source": [
    "# Input any code for Question 2 here.\n"
   ]
  },
  {
   "cell_type": "markdown",
   "metadata": {},
   "source": [
    "Add your written answers for Question 2 here."
   ]
  },
  {
   "cell_type": "markdown",
   "metadata": {},
   "source": [
    "## Question 3.\n",
    "\n",
    "### Let's proceed with estimating the difference-in-difference sestimation via a regression:\n",
    "\n",
    "#### (a)  Write an equation that will give you the difference-in-differences estimator for the impact of the minimum wage increase on full time equivalent employees."
   ]
  },
  {
   "cell_type": "code",
   "execution_count": 7,
   "metadata": {},
   "outputs": [],
   "source": [
    "# Insert any code for 3a here.\n"
   ]
  },
  {
   "cell_type": "markdown",
   "metadata": {},
   "source": [
    "Add any written answer for 3a here."
   ]
  },
  {
   "cell_type": "markdown",
   "metadata": {},
   "source": [
    "#### (b)  Give the __economic__ interpretation of $\\beta_0, \\beta_1, \\beta_2, \\beta_3$"
   ]
  },
  {
   "cell_type": "markdown",
   "metadata": {},
   "source": [
    "Add any written answer for 3b here."
   ]
  },
  {
   "cell_type": "markdown",
   "metadata": {},
   "source": [
    "#### (c) Perform the estimation. You will need to generate two of the necessary right hand-side variables."
   ]
  },
  {
   "cell_type": "code",
   "execution_count": 6,
   "metadata": {},
   "outputs": [],
   "source": [
    "# Insert any code for 3c here.\n"
   ]
  },
  {
   "cell_type": "markdown",
   "metadata": {},
   "source": [
    "Add any written answer for 3c here."
   ]
  },
  {
   "cell_type": "markdown",
   "metadata": {},
   "source": [
    "#### (d) What do you conclude from the results of your estimation? Confirm that the results in this part are approximately the same as those in Question 2."
   ]
  },
  {
   "cell_type": "code",
   "execution_count": 5,
   "metadata": {},
   "outputs": [],
   "source": [
    "# Insert any code for 3d here.\n"
   ]
  },
  {
   "cell_type": "markdown",
   "metadata": {},
   "source": [
    "Add any written answer for 3d here."
   ]
  },
  {
   "cell_type": "markdown",
   "metadata": {},
   "source": [
    "## Question 4.\n",
    "\n",
    "### In this question, we will explore the identifying assumptions for the difference-in-differences estimator.\n",
    "\n",
    "#### (a) What key assumption do you need to make for your regression in part 3 to estimate the causal effect of minimum wage laws?\n"
   ]
  },
  {
   "cell_type": "markdown",
   "metadata": {},
   "source": [
    "Add your written answer for Question 4a here."
   ]
  },
  {
   "cell_type": "markdown",
   "metadata": {},
   "source": [
    "#### (b) What additional data might you need to provide evidence for this assumption?"
   ]
  },
  {
   "cell_type": "markdown",
   "metadata": {
    "deletable": false
   },
   "source": [
    "Add your written answers for Question 4b here."
   ]
  },
  {
   "cell_type": "markdown",
   "metadata": {},
   "source": [
    "#### (c)  Draw a graph showing changes in full time equivalent employees ($fte$) that would provide evidence that this identifying assumption is satisfied.\n"
   ]
  },
  {
   "cell_type": "code",
   "execution_count": 2,
   "metadata": {
    "deletable": false
   },
   "outputs": [],
   "source": [
    "# Include your code for Question 4c here.\n"
   ]
  },
  {
   "cell_type": "markdown",
   "metadata": {
    "deletable": false
   },
   "source": [
    "Add any written answers for Question 4c here."
   ]
  },
  {
   "cell_type": "markdown",
   "metadata": {},
   "source": [
    "## Question 5.\n",
    "\n",
    "### Run the regression in Question 3(c), but instead using only full-time employment ($empft$) as your outcome variable. Report your results, and interpret your estimates of $\\beta_3$."
   ]
  },
  {
   "cell_type": "code",
   "execution_count": 8,
   "metadata": {},
   "outputs": [],
   "source": [
    "# Include your code for Question 5 here.\n"
   ]
  },
  {
   "cell_type": "markdown",
   "metadata": {},
   "source": [
    "Add any written answers for Question 5 here."
   ]
  },
  {
   "cell_type": "markdown",
   "metadata": {},
   "source": [
    "## Question 6.\n",
    "\n",
    "### Let's say that we wanted to estimate the effect of minimum wage laws on full-time employment ($empft$), but we only had data from New Jersey. Using a simple difference in means, estimate and interpret the effect of minimum wage laws on full-time employment in New Jersey. Make sure to test for significance. "
   ]
  },
  {
   "cell_type": "code",
   "execution_count": 4,
   "metadata": {},
   "outputs": [],
   "source": [
    "# Include your code for Question 6 here.\n"
   ]
  },
  {
   "cell_type": "markdown",
   "metadata": {},
   "source": [
    "Add any written answers for Question 6 here."
   ]
  },
  {
   "cell_type": "markdown",
   "metadata": {},
   "source": [
    "## Question 7. \n",
    "\n",
    "###  In no more than 3 sentences, compare your conclusion in part 5 to your conclusion in part 6. If you draw different conclusions from the results of part 5 and part 6, what might explain this difference (i.e., why is the difference-in-differences estimator preferable)?"
   ]
  },
  {
   "cell_type": "code",
   "execution_count": 7,
   "metadata": {
    "deletable": false
   },
   "outputs": [],
   "source": [
    "# Include any code for Question 7 here\n"
   ]
  },
  {
   "cell_type": "markdown",
   "metadata": {
    "deletable": false
   },
   "source": [
    "Add any written answers for Question 7 here."
   ]
  },
  {
   "cell_type": "markdown",
   "metadata": {},
   "source": [
    "## Question 8.\n",
    "\n",
    "###  Run the regression in part 3, limiting the New Jersey observations to those not located in the New Jersey Shore.\n",
    "\n",
    "#### (a) Report your results and compare them to those obtained in part 3.\n"
   ]
  },
  {
   "cell_type": "code",
   "execution_count": 4,
   "metadata": {
    "deletable": false
   },
   "outputs": [],
   "source": [
    "# Type any code for Question 8a here\n"
   ]
  },
  {
   "cell_type": "markdown",
   "metadata": {
    "deletable": false
   },
   "source": [
    "Add your written discussion for Question 8a here."
   ]
  },
  {
   "cell_type": "markdown",
   "metadata": {},
   "source": [
    "#### (b) In no more than two sentences, explain why you might want to impose this restriction. Think about differences between the rest of New Jersey and the Jersey Shore."
   ]
  },
  {
   "cell_type": "markdown",
   "metadata": {},
   "source": [
    "Add your written discussion for Question 8b here."
   ]
  },
  {
   "cell_type": "markdown",
   "metadata": {},
   "source": [
    "# Exercise 2:  Schoolbus Replacements and Attendance - Panel Regression\n",
    "\n",
    "## Background\n",
    "\n",
    "\n",
    "In this problem, we will look at the effect of replacing highly-polluting school buses on students' health. Many school districts in California, particularly less wealthy school districts, have school buses that are many decades old. These buses do not have many of the pollution controls that are now standard in vehicles, exposing the students that ride them to high concentrations of pollutants. In 2006, the state of California passed a proposition that allocated funds towards replacing the oldest of these school buses with new models that had adequate pollution controls. We have data for these replacements for the years 2009-2012, with the number of replacements per year more or less increasing over the sample period. This data is combined with attendance data from all school districts in California over the same period to test the impact of reducing pollution exposure through bus replacements on student health. Attendance is used to measure student health because students who are chronically ill are often absent from school. The full dataset is described in detail below.\n",
    "\n",
    " The dataset `Schoolbuses_PS5.dta` is an unbalanced panel of 209 school districts for the years 2009-2012, and contains the following variables:\n",
    " \n",
    " \n",
    "\n",
    "|    Variable Name     | Description                       | \n",
    "|----------------------|-----------------------------------|\n",
    "| $district\\_code $      | Unique School District Identifier    |\n",
    "| $year    $ | Year    |\n",
    "| $bus\\_replace   $  | Number of Buses Replaced   |\n",
    "| $attendance  $  | Percent of students in attendance   |\n",
    "| $gifted  $   | Numberof students in the Gifted Student Program  |\n",
    "| $white $    | Number of White Students  |\n",
    "| $college $    | Number of Students with Parents that Attended College   |\n",
    "| $advtgd $     | Number of Students from Higher Socio-Economic Backgrounds    |\n",
    "| $fleet\\_size $    | Number of Buses in the District Fleet   |\n",
    "| $pupils\\_trans  $    | Average Number of Students Traveling per Day   |\n",
    "| $enrollment$     | Number of Students Enrolled in the District \n",
    " "
   ]
  },
  {
   "cell_type": "markdown",
   "metadata": {},
   "source": [
    "## Question 1.  \n",
    "\n",
    "### Briefly describe the data that you have : a) How many school districts? b) How many years? c) Report  the mean, sd, min and the max of the following variables: number of buses replaced, number of students enrolled, and fleet size."
   ]
  },
  {
   "cell_type": "code",
   "execution_count": null,
   "metadata": {},
   "outputs": [],
   "source": [
    "# Add Code for Question 1 here."
   ]
  },
  {
   "cell_type": "markdown",
   "metadata": {},
   "source": [
    "Add your written answer for Question 1 here.\n"
   ]
  },
  {
   "cell_type": "markdown",
   "metadata": {},
   "source": [
    "## Question 2.\n",
    "\n",
    "### You think that it might be important to control for the year in your regression of attendance on bus replacements.  First, generate year dummy variables $(yr_{2009}, yr_{2010}, yr_{2011}, yr_{2012})$.  Next, estimate the following equation for school attendance.\n",
    "\\begin{align*}\n",
    "attendance_{it} = \\beta_0+ \\beta_1 bus\\_replace_{it} + \\beta_2white_{it} &+ \\beta_3college_{it} + \\beta_4advtgd_{it} + \\beta_5gifted_{it} \\ \\ \\ \\ \\ \\ (1) \\\\\n",
    "&+ \\delta_1yr_{2010} + \\delta_2yr_{2011} + \\delta_3yr_{2012} + u_{it}    \n",
    "\\end{align*}\n",
    "\n",
    "#### (a) Estimate the model and report your results."
   ]
  },
  {
   "cell_type": "code",
   "execution_count": 15,
   "metadata": {},
   "outputs": [],
   "source": [
    "# Add your code for part (a) here."
   ]
  },
  {
   "cell_type": "markdown",
   "metadata": {},
   "source": [
    "Add your written answer for part (a) here."
   ]
  },
  {
   "cell_type": "markdown",
   "metadata": {},
   "source": [
    "#### (b) Give the meaning (economic interpretation) of $\\beta_0$ and $\\delta_{1}$"
   ]
  },
  {
   "cell_type": "markdown",
   "metadata": {},
   "source": [
    "Add your written answer for part (b) here."
   ]
  },
  {
   "cell_type": "markdown",
   "metadata": {},
   "source": [
    "#### (c) Interpret (SSS) your estimate for $\\beta_1$. "
   ]
  },
  {
   "cell_type": "markdown",
   "metadata": {},
   "source": [
    "Add your written answer for part (c) here."
   ]
  },
  {
   "cell_type": "markdown",
   "metadata": {},
   "source": [
    "#### (d) Why is the year 2009 dummy excluded?"
   ]
  },
  {
   "cell_type": "markdown",
   "metadata": {},
   "source": [
    "Add your written answer for part (d) here."
   ]
  },
  {
   "cell_type": "markdown",
   "metadata": {},
   "source": [
    "## Question 3.\n",
    "\n",
    "### Consider now the following (unobserved) fixed effects model:\n",
    "\\begin{align*}\n",
    "attendance_{it} =\\beta_0+ \\beta_1 bus\\_replace_{it} + \\beta_2white_{it} + \\beta_3college_{it} + \\beta_4advtgd_{it}+ \\beta_5gifted_{it} + \\boldsymbol{\\delta}_t+\\mathbf{a_i} +u_{it} \\ \\ \\ (2)\n",
    "\\end{align*}\n",
    "\n",
    "#### (a) What is the interpretation of the vector of fixed effects terms $\\mathbf{a_{i}}$?"
   ]
  },
  {
   "cell_type": "markdown",
   "metadata": {},
   "source": [
    "Add your written answer for part (a) here."
   ]
  },
  {
   "cell_type": "markdown",
   "metadata": {},
   "source": [
    "#### (b) Why are we adding these fixed effects, as opposed to estimating model (2)? In other words, what do these fixed effects control for in the regression? "
   ]
  },
  {
   "cell_type": "markdown",
   "metadata": {},
   "source": [
    "Add your written answer for part (b) here.\n"
   ]
  },
  {
   "cell_type": "markdown",
   "metadata": {},
   "source": [
    "#### (c)  Interpret $\\hat \\beta_1$ (remember SSS)"
   ]
  },
  {
   "cell_type": "markdown",
   "metadata": {},
   "source": [
    "Add your written answer for part (c) here.\n"
   ]
  },
  {
   "cell_type": "markdown",
   "metadata": {},
   "source": [
    "#### (d) Comment specifically on how the size of $\\hat \\beta_1$ changes from model (2) to model (3) and explain why  you might have expected it to go in this direction.  "
   ]
  },
  {
   "cell_type": "markdown",
   "metadata": {},
   "source": [
    "Add your written answer for part (d) here."
   ]
  },
  {
   "cell_type": "markdown",
   "metadata": {},
   "source": [
    "## Question 4.\n",
    "\n",
    "### What are the assumptions necessary for the parameters of model (3) to be unbiased? Do you think they are likely to hold? Whatever position you take, give your argument."
   ]
  },
  {
   "cell_type": "markdown",
   "metadata": {},
   "source": [
    "Add your written answer for Question 6 here."
   ]
  },
  {
   "cell_type": "markdown",
   "metadata": {},
   "source": [
    "## Downloading your Notebook\n",
    "\n",
    "Download a PDF copy of your notebook by using __File > Download as > PDF via Chrome (.pdf)__. It does not matter what browser you are using, you can use this command to download a copy of your notebook while on Chrome/Firefox/Opera/Edge/Safari/heck probably even Internet Explorer or Netscape Navigator.\n",
    "\n",
    "If you have a problem downloading your notebook or combining PDFs, or if you are using RStudio on your own computer and are unsure what sort of output I want, __please email me__."
   ]
  }
 ],
 "metadata": {
  "@webio": {
   "lastCommId": null,
   "lastKernelId": null
  },
  "celltoolbar": "Edit Metadata",
  "kernelspec": {
   "display_name": "R",
   "language": "R",
   "name": "ir"
  },
  "language_info": {
   "codemirror_mode": "r",
   "file_extension": ".r",
   "mimetype": "text/x-r-source",
   "name": "R",
   "pygments_lexer": "r",
   "version": "4.0.5"
  },
  "toc": {
   "base_numbering": 1,
   "nav_menu": {},
   "number_sections": true,
   "sideBar": true,
   "skip_h1_title": false,
   "title_cell": "Table of Contents",
   "title_sidebar": "Contents",
   "toc_cell": false,
   "toc_position": {},
   "toc_section_display": true,
   "toc_window_display": false
  },
  "varInspector": {
   "cols": {
    "lenName": 16,
    "lenType": 16,
    "lenVar": 40
   },
   "kernels_config": {
    "python": {
     "delete_cmd_postfix": "",
     "delete_cmd_prefix": "del ",
     "library": "var_list.py",
     "varRefreshCmd": "print(var_dic_list())"
    },
    "r": {
     "delete_cmd_postfix": ") ",
     "delete_cmd_prefix": "rm(",
     "library": "var_list.r",
     "varRefreshCmd": "cat(var_dic_list()) "
    }
   },
   "types_to_exclude": [
    "module",
    "function",
    "builtin_function_or_method",
    "instance",
    "_Feature"
   ],
   "window_display": false
  }
 },
 "nbformat": 4,
 "nbformat_minor": 2
}
