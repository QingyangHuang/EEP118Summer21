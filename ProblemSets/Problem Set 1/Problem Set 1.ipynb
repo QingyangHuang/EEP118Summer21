{
 "cells": [
  {
   "cell_type": "markdown",
   "metadata": {
    "deletable": false
   },
   "source": [
    "# EEP/IAS 118 - Problem Set 1\n",
    "## Summer 2021\n",
    "## Qingyang Huang\n"
   ]
  },
  {
   "cell_type": "markdown",
   "metadata": {
    "deletable": false,
    "editable": false
   },
   "source": [
    "# Greenhouse Gas Emissions and Economic Activity\n",
    "\n",
    "Measuring greenhouse gas emissions and understanding how economic activity affects these levels can be a\n",
    "difficult task. For example, greenhouse gases vary in the amount of time they remain in the atmosphere and\n",
    "how much energy they absorb. To address this issue, total greenhouse gas emissions are often measured in\n",
    "units of Global Warming Potential (GWP). GWP is also known as $CO_2$ equivalents; $CO_2$ is given a GWP of 1\n",
    "and all values less than/greater than 1 convey how many times less/more global warming potential the gas has\n",
    "relative to $CO_2$. For example, while methane ($CH_4$) has a shorter lifespan than $CO_2$ it absorbs much more\n",
    "energy, so it is considerably more harmful and is given a GWP of 28-36. In this problem set we will explore\n",
    "how two measures of economic activity, GDP per capita and renewable energy consumption, are correlated\n",
    "with greenhouse gas emissions.\n",
    "\n",
    "The data comes from the World Bank’s Development Indicators for 2012, which are provided for you (*World_Bank_Indicators.csv*). Here\n",
    "we focus on three variables. First is total greenhouse gas emissions, which include $CO_2$, all anthropogenic\n",
    "sources of methane ($CH_4$), nitrous oxide ($N_2O$) and F-gases. The total emissions per capita in a given country\n",
    "are calculated as metric tons of $CO_2$ equivalents divided by the midyear population. Next is GDP per capita,\n",
    "calculated as gross domestic product divided by midyear population and measured in thousands of US dollars.\n",
    "Lastly, renewable energy consumption is the share of renewables in total final energy consumption. The figures\n",
    "below plot data from all 123 countries contained in the original dataset (the provided dataset is a subset of this original data). The values for selected countries can be found in Tables 1, 2, and 3."
   ]
  },
  {
   "cell_type": "markdown",
   "metadata": {},
   "source": [
    "<p style=\"text-align: center;\"> Figure 1. </p>\n",
    "\n",
    "<img src=\"images/figure-1.png\" width=\"400\" />"
   ]
  },
  {
   "cell_type": "markdown",
   "metadata": {},
   "source": [
    "<p style=\"text-align: center;\"> Figure 2. </p>\n",
    "\n",
    "<img src=\"images/figure-2.png\" width=\"400\" />"
   ]
  },
  {
   "cell_type": "markdown",
   "metadata": {
    "deletable": false,
    "editable": false
   },
   "source": [
    "## Exercise 1: Relationship between GDP per capita and greenhouse gas emissions per capita (Excel)\n",
    "\n",
    "\n",
    "This exercise is to be completed using __Excel__. \n",
    "Looking at the first graph, there appears to be an association between GDP per capita and greenhouse gas emissions per capita. We will establish a simple linear relationship on a (very small) subset of 5 countries.\n",
    "\n",
    "\n",
    "| Table 1. | CountryName   | GDPCapita | GGTonnesCapita |\n",
    "|-----------------|---------------|-----------|----------------|\n",
    "|     &nbsp;      | Brazil        | 11.56     | 14.77          |\n",
    "|        &nbsp;   | Cambodia      | 0.87      | 8.59           |\n",
    "|       &nbsp;    | Canada        | 48.72     | 29.55          |\n",
    "|       &nbsp;    | China         | 5.28      | 9.22           |\n",
    "|       &nbsp;    | United States | 49.48     | 20.20          |"
   ]
  },
  {
   "cell_type": "markdown",
   "metadata": {
    "deletable": false,
    "editable": false
   },
   "source": [
    "_Part (a):_  __Use Excel__ to create a scatter plot of these observations. Don't forget to (1) label the axes and their units, and (2) title your graph. __You should use the tables provided here for these calculations, not the actual observations from the .csv data file.__"
   ]
  },
  {
   "cell_type": "markdown",
   "metadata": {},
   "source": []
  },
  {
   "cell_type": "markdown",
   "metadata": {
    "deletable": false,
    "editable": false
   },
   "source": [
    "_Part (b):_  This question has __two parts__.  First: Estimate the linear relationship between GDP per capita and greenhouse gas emissions per capita ($E$) by OLS, showing all intermediate calculations as we saw in the lecture 3 slides (use Excel to create the table and show all the steps).\n",
    "\n",
    "Second: interpret the value of the estimated parameters $\\hat{\\beta}_0$ and $\\hat{\\beta}_1$ from the model.\n",
    "\n",
    "  &nbsp;\n",
    "$$\\widehat{E}_i = \\widehat{\\beta}_0 + \\widehat{\\beta}_1 \\text{GDP/cap}_i + \\epsilon_i , \\;\\;\\;\\; i = \\{ \\text{Brazil, Cambodia, Canada, China, US}\\}$$\n"
   ]
  },
  {
   "cell_type": "markdown",
   "metadata": {
    "deletable": false
   },
   "source": []
  },
  {
   "cell_type": "markdown",
   "metadata": {
    "deletable": false,
    "editable": false
   },
   "source": [
    "_Part (c):_ In your table, compute the fitted value $\\widehat{E}_i$ and the residual $\\epsilon_i$ for each observation, and verify that the residuals (approximately) sum to 0."
   ]
  },
  {
   "cell_type": "markdown",
   "metadata": {},
   "source": []
  },
  {
   "cell_type": "markdown",
   "metadata": {
    "deletable": false,
    "editable": false
   },
   "source": [
    "_Part (d):_ According to the estimated relation, what is the predicted $\\widehat{E}_i$ for a country with a GDP per capita of \\$10,000? (pay attention to units)"
   ]
  },
  {
   "cell_type": "markdown",
   "metadata": {
    "deletable": false
   },
   "source": []
  },
  {
   "cell_type": "markdown",
   "metadata": {
    "deletable": false,
    "editable": false
   },
   "source": [
    "_Part (e):_ How much of the variation in greenhouse gas emissions per capita for these 5 countries is explained by their GDP per capita? Can you provide some reasons for why emissions might be lower in less developed countries?"
   ]
  },
  {
   "cell_type": "markdown",
   "metadata": {
    "deletable": false
   },
   "source": []
  },
  {
   "cell_type": "markdown",
   "metadata": {
    "deletable": false,
    "editable": false
   },
   "source": [
    "_Part (f):_ Repeat _Part (b)_ for two additional sets of countries below. __You should use the tables provided below for these calculations, not the actual observations from the .csv data file.__\n",
    "\n",
    "    \n",
    "|  Table 2.     | CountryName   | GDPCapita | GGTonnesCapita |\n",
    "|---------------|---------------|-----------|----------------|\n",
    "|          &nbsp;       | Chile         | 13.96     | 6.94           |\n",
    "|         &nbsp;        | Georgia       | 3.47      | 3.82           |\n",
    "|         &nbsp;        | Indonesia     | 3.43      | 3.15           |\n",
    "|          &nbsp;       | Malta         | 19.95     | 4.58           |\n",
    "|           &nbsp;      | Phillipines   | 2.30      | 1.74           |\n",
    "\n",
    "  &nbsp;\n",
    "  \n",
    "    \n",
    "|  Table 3.     | CountryName   | GDPCapita | GGTonnesCapita |\n",
    "|---------------|---------------|-----------|----------------|\n",
    "|       &nbsp;  | Belarus       |  6.26     | 11.59          |\n",
    "|       &nbsp;  | Cambodia      |  0.87     | 8.59           |\n",
    "|       &nbsp;  | Lebanon       |  8.05     | 4.14           |\n",
    "|       &nbsp;  | Mozambique    |  0.45     | 14.78          |\n",
    "|       &nbsp;  | Namibia       |  5.44     | 16.60          |"
   ]
  },
  {
   "cell_type": "markdown",
   "metadata": {
    "deletable": false,
    "editable": false
   },
   "source": [
    "_Part (g):_ How do your estimates of $\\widehat{\\beta}_0$ and $\\widehat{\\beta}_1$ change between Tables 1, 2, and 3? Briefly explain this variation in 3-5 sentences."
   ]
  },
  {
   "cell_type": "markdown",
   "metadata": {
    "deletable": false
   },
   "source": []
  },
  {
   "cell_type": "markdown",
   "metadata": {
    "deletable": false,
    "editable": false
   },
   "source": [
    "_Part (h):_ Download a copy of your workbook as a pdf (OLS tables and scatter plot) to combine with this notebook when finished. Use __File > Download As > pdf__ to download."
   ]
  },
  {
   "cell_type": "markdown",
   "metadata": {
    "deletable": false,
    "editable": false
   },
   "source": [
    "## Exercise 2. Functional Forms \n",
    "\n",
    "This question does not require any work in Excel/R. Please submit written responses in the notebook using the spaces below."
   ]
  },
  {
   "cell_type": "markdown",
   "metadata": {
    "deletable": false,
    "editable": false
   },
   "source": [
    "_Part (a):_ An economist asks you whether they should estimate a __linear__ relationship between greenhouse gas emissions per capita and \\% of renewable energy in total final energy.  You will make your decision based on Figure 1. If you answer \"yes\", please say why. If you answer \"no\", can you name another functional form you might try?\n"
   ]
  },
  {
   "cell_type": "markdown",
   "metadata": {
    "deletable": false
   },
   "source": []
  },
  {
   "cell_type": "markdown",
   "metadata": {
    "deletable": false,
    "editable": false
   },
   "source": [
    "_Part (b):_ The economist sees your analysis of the relationship between GDP per capita and greenhouse gas emissions per capita.  She asks you to explore alternative functional forms for this relationship. Using the provided World Development Indicators data, you estimate the following equations:\n",
    "* A linear relationship: $\\hat{E}_i = 6.464 + 0.176 \\: GDP/cap_i + \\epsilon_i$ \n",
    "* A linear-log relationship: $\\hat{E}_i =   4.046 + 2.655 \\: log(GDP/cap)_i+ \\epsilon_i$\n",
    "* A log-log relationship: $log(\\hat{E})_i  = 1.191 + 0.364 \\: log(GDP/cap)_i+ \\epsilon_i$\n",
    "\n",
    "    _Note that it is convention to always use the natural log._\n",
    "    \n",
    " _(i)_ Interpret the parameter on GDP per capita (or log(GDP per capita)) in each of these equations.\n",
    " \n",
    " _(ii)_ What are predicted greenhouse gas emissions (metric tons per capita) for a country with a GDP per capita of $10,000 with each of the models? (pay attention to units)"
   ]
  },
  {
   "cell_type": "markdown",
   "metadata": {
    "deletable": false
   },
   "source": []
  },
  {
   "cell_type": "markdown",
   "metadata": {
    "deletable": false,
    "editable": false
   },
   "source": [
    "## Exercise 3: Working with Data in R\n",
    "\n",
    "This exercise will be conducted entirely in R using this Jupyter notebook."
   ]
  },
  {
   "cell_type": "markdown",
   "metadata": {
    "deletable": false,
    "editable": false
   },
   "source": [
    "First, load your packages using the `library()` function. For this problem, we will only be using the **tidyverse** package (tidyverse is a collection of packages designed for data science that we'll be using throughout this term)."
   ]
  },
  {
   "cell_type": "code",
   "execution_count": null,
   "metadata": {
    "deletable": false
   },
   "outputs": [],
   "source": [
    "# Add your code here"
   ]
  },
  {
   "cell_type": "markdown",
   "metadata": {
    "deletable": false,
    "editable": false
   },
   "source": [
    "_Part (a):_ Load the data set `World_Bank_Indicators_PS1.csv` into R as `indicators`. Since this is a \".csv\" file, you should use the `read.csv()` command."
   ]
  },
  {
   "cell_type": "code",
   "execution_count": null,
   "metadata": {
    "deletable": false
   },
   "outputs": [],
   "source": [
    "# Add your code here"
   ]
  },
  {
   "cell_type": "markdown",
   "metadata": {
    "deletable": false,
    "editable": false
   },
   "source": [
    "_Part (b):_ Use function `summary()` to get basic summary statistics of the `GGTonnesCapita` variable. This function is part of base R, so you do not need to load any packages to use it. What is the median of the `GGTonnesCapita` variable?"
   ]
  },
  {
   "cell_type": "code",
   "execution_count": null,
   "metadata": {
    "deletable": false
   },
   "outputs": [],
   "source": [
    "# Add your code here"
   ]
  },
  {
   "cell_type": "markdown",
   "metadata": {
    "deletable": false,
    "editable": false
   },
   "source": [
    "_Part (c):_ Next, generate custom summary statistics for `GGTonnesCapita` using the `summarise()` command provided by the **dplyr** package (included in **tidyverse**). What are a) the number of observations, and b) the value of the 95th percentile of greenhouse gas emissions per capita in the sample? \n",
    "\n",
    "(For help generating the statistics, see the [RDocumentation for the summarise function](https://www.rdocumentation.org/packages/dplyr/versions/0.7.8/topics/summarise))\n"
   ]
  },
  {
   "cell_type": "code",
   "execution_count": null,
   "metadata": {
    "deletable": false
   },
   "outputs": [],
   "source": [
    "# Add your code here"
   ]
  },
  {
   "cell_type": "markdown",
   "metadata": {},
   "source": [
    "Add your written answer for part (c) here"
   ]
  },
  {
   "cell_type": "markdown",
   "metadata": {
    "deletable": false,
    "editable": false
   },
   "source": [
    "Download a pdf copy of this notebook to combine with your excel files and upload to Gradescope. Click on __File > Download As > pdf (.pdf)__."
   ]
  }
 ],
 "metadata": {
  "@webio": {
   "lastCommId": null,
   "lastKernelId": null
  },
  "kernelspec": {
   "display_name": "R",
   "language": "R",
   "name": "ir"
  },
  "language_info": {
   "codemirror_mode": "r",
   "file_extension": ".r",
   "mimetype": "text/x-r-source",
   "name": "R",
   "pygments_lexer": "r",
   "version": "4.1.0"
  },
  "toc": {
   "base_numbering": 1,
   "nav_menu": {},
   "number_sections": true,
   "sideBar": true,
   "skip_h1_title": false,
   "title_cell": "Table of Contents",
   "title_sidebar": "Contents",
   "toc_cell": false,
   "toc_position": {},
   "toc_section_display": true,
   "toc_window_display": false
  },
  "varInspector": {
   "cols": {
    "lenName": 16,
    "lenType": 16,
    "lenVar": 40
   },
   "kernels_config": {
    "python": {
     "delete_cmd_postfix": "",
     "delete_cmd_prefix": "del ",
     "library": "var_list.py",
     "varRefreshCmd": "print(var_dic_list())"
    },
    "r": {
     "delete_cmd_postfix": ") ",
     "delete_cmd_prefix": "rm(",
     "library": "var_list.r",
     "varRefreshCmd": "cat(var_dic_list()) "
    }
   },
   "types_to_exclude": [
    "module",
    "function",
    "builtin_function_or_method",
    "instance",
    "_Feature"
   ],
   "window_display": false
  }
 },
 "nbformat": 4,
 "nbformat_minor": 2
}
