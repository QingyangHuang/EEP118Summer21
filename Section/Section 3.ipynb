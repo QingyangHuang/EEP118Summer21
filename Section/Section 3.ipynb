{
 "cells": [
  {
   "cell_type": "markdown",
   "metadata": {},
   "source": [
    "# EEP/IAS 118 - Section 3\n",
    "\n",
    "## Manipulating (more) Data, Attractive Figures, and Practice Problems!\n",
    "\n",
    "### July 8, 2021\n",
    "\n",
    "Today's coding portion of the section will help get us familiar with a few packages that will help us improve the quality of our output tables and figures. "
   ]
  },
  {
   "cell_type": "code",
   "execution_count": null,
   "metadata": {},
   "outputs": [],
   "source": [
    "library(tidyverse)\n",
    "library(haven)\n",
    "library(xtable)\n",
    "sleepdata <- read_dta(\"sleep75.dta\")"
   ]
  },
  {
   "cell_type": "markdown",
   "metadata": {},
   "source": [
    "## Working with Indexes\n",
    "\n",
    "We've seen how to manipulate datasets by adding in variables or removing certain observations, but what if we want to obtain one element/a set of elements from a known location? \n",
    "\n",
    "### Vectors\n",
    "Let's start by working with a vector:"
   ]
  },
  {
   "cell_type": "code",
   "execution_count": null,
   "metadata": {},
   "outputs": [],
   "source": [
    "vec <- rnorm(10, mean =4, sd = 2)\n",
    "vec"
   ]
  },
  {
   "cell_type": "markdown",
   "metadata": {},
   "source": [
    "We created a vector of length 10 of random draws from a N(4,4) distribution. Now if we were interested in getting just the third element of this vector, we can do that like so:"
   ]
  },
  {
   "cell_type": "code",
   "execution_count": null,
   "metadata": {},
   "outputs": [],
   "source": [
    "vec[3]"
   ]
  },
  {
   "cell_type": "markdown",
   "metadata": {},
   "source": [
    "The `[]` lets __R__ know that you want to select on position, while the 3 is our instruction for which position to pull from. \n",
    "\n",
    "(note that since we're working with a vector and not a dataframe, we can't use `$` to call a certain column). \n",
    "\n",
    "If we were interested in elements 5 through 7, we can pull them with the use of `:`"
   ]
  },
  {
   "cell_type": "code",
   "execution_count": null,
   "metadata": {},
   "outputs": [],
   "source": [
    "vec[5:7]"
   ]
  },
  {
   "cell_type": "markdown",
   "metadata": {},
   "source": [
    "Finally, if we wanted to pull the first, fourth, and ninth elements we can do that using `c()`:"
   ]
  },
  {
   "cell_type": "code",
   "execution_count": null,
   "metadata": {},
   "outputs": [],
   "source": [
    "vec[c(1,4,9)]"
   ]
  },
  {
   "cell_type": "markdown",
   "metadata": {},
   "source": [
    "What `c()` is doing is combining all the elements given to it into a vector themselves. We can see that by running it on its own."
   ]
  },
  {
   "cell_type": "code",
   "execution_count": null,
   "metadata": {},
   "outputs": [],
   "source": [
    "newvec <- c(30,34,38,42)\n",
    "newvec\n",
    "is.vector(newvec)"
   ]
  },
  {
   "cell_type": "markdown",
   "metadata": {},
   "source": [
    "### Matrices and Data Frames\n",
    "\n",
    "What happens when we are working multidimensional objects? Largely the same thing! Now we just need to refer to position by specifying `[row#, column#]`. It is the same process for whether we're working with a matrix or a data frame."
   ]
  },
  {
   "cell_type": "code",
   "execution_count": null,
   "metadata": {},
   "outputs": [],
   "source": [
    "# make a matrix\n",
    "mat40 <- matrix(1:40, nrow = 4, ncol = 10)\n",
    "mat40\n",
    "is.matrix(mat40)\n",
    "\n",
    "# Get the first element (1)\n",
    "mat40[1,1]\n",
    "\n",
    "# Get the element from the 3rd row and 6th column\n",
    "mat40[3,6]\n",
    "\n",
    "# Get the fifth, sixth, and seventh elements from the 2nd row\n",
    "mat40[2, 5:7]\n",
    "\n",
    "# Get all of column five\n",
    "mat40[, 5]\n",
    "\n",
    "# Get all of row four\n",
    "mat40[4,]\n",
    "\n",
    "# Get the fifth, sixth, and seventh elements from the first AND 2nd rows\n",
    "mat40[1:2, 5:7]\n",
    "\n",
    "# Get the first and fourth elements from the third row\n",
    "mat40[3,c(1,4)]"
   ]
  },
  {
   "cell_type": "markdown",
   "metadata": {},
   "source": [
    "We have a bunch of flexibility here to call one element or multiple elements at the same time, the only restriction being that we follow the `[row#, col#]` syntax.\n",
    "\n",
    "The process for data frames is pretty similar, albeit with one extension. Now that we have variables, we can combine a position call with the `$` for a specific variable."
   ]
  },
  {
   "cell_type": "code",
   "execution_count": null,
   "metadata": {},
   "outputs": [],
   "source": [
    "\n",
    "sleepdf <- sleepdata %>%\n",
    "    select(age, educ, exper, hrwage)\n",
    "head(sleepdf)\n",
    "nrow(sleepdf)\n",
    "ncol(sleepdf)\n",
    "dim(sleepdf)\n",
    "\n",
    "is.data.frame(sleepdf)\n",
    "\n",
    "# Get the first row\n",
    "sleepdf[1,]\n",
    "\n",
    "# Get the head of the age variable \n",
    "head(sleepdf$age)\n",
    "\n",
    "# Get the fourth row element of column 4 (hrwage)\n",
    "sleepdf[4,4]\n",
    "\n",
    "# Alternatively, we can do the same thing by refering to the specific variable/column\n",
    "sleepdf$hrwage[4]"
   ]
  },
  {
   "cell_type": "markdown",
   "metadata": {},
   "source": [
    "Note that when we use the `$` to call a specific variable, __R__ now treats that variable as a vector, so we can refer to its elements with `[]` in one dimension. In that case, our call `sleepdf$hrwage[4]` gives us just a number, whereas the previous call of `sleepdf[4,4]` gives us the same value but presented in a 1x1 table."
   ]
  },
  {
   "cell_type": "markdown",
   "metadata": {},
   "source": [
    "## ggplot2\n",
    "\n",
    "One of the sad facts about (most) economic research papers is that they don't always have the most aesthetically pleasing figures. For many data visualization applications or our own work we might want to have more control over the visuals and step them up a notch, making sure they convey useful information and have informative labels/captions. This is where the __ggplot2__ package comes in.\n",
    "\n",
    "We started off using __R's__ built-in plot function, which let us produce scatterplots and construct histograms of all sorts of variables. However, it doesn't look the best and has some ugly naming conventions. __ggplot2__ will give us complete control over our figure and allow us to get as in depth with it as we want.\n",
    "\n",
    "### ggplot2 Basic Syntax\n",
    "\n",
    "Let's start by getting familiar with the basic syntax of __ggplot2__. It's syntax is a little bit different than some of the functions we've used before, but once we figure it out it makes thing nice and easy as we make more and more professional-looking figures.\n",
    "\n",
    "To start a plot, we start with the function\n",
    "\n",
    "## `ggplot()`\n",
    "\n",
    "This function initializes an empty plot and passes data to other plots that we'll add on top. We can also use this function to define our dataset or specify what our x and y variables are."
   ]
  },
  {
   "cell_type": "code",
   "execution_count": null,
   "metadata": {},
   "outputs": [],
   "source": [
    "ggplot()"
   ]
  },
  {
   "cell_type": "markdown",
   "metadata": {},
   "source": [
    "Okay, so not the most impressive yet. We get a little bit more if we specify our data and our x/y variables. To specify the data, we add the argument `data = \"dataname\"` to the function. To specify which variable is on the x axis and which is on the y, we use the `aes(x= \"xvar\", y= \"yvar\")` argument. `aes()` is short for \"aesthetics\" and allows us to automatically pass these variables along as our x and y variables for the plots we add.\n",
    "\n",
    "Let's say we're interested in using our `sleepdata` to see the relationship between age and hourly wage in our sample"
   ]
  },
  {
   "cell_type": "code",
   "execution_count": null,
   "metadata": {},
   "outputs": [],
   "source": [
    "ggplot(data = sleepdata, aes(x = age, y = hrwage))"
   ]
  },
  {
   "cell_type": "markdown",
   "metadata": {},
   "source": [
    "That is a start! Now we have labels on both of our axes corresponding to the assigned variable, and a grid corresponding to possible values of those variables. \n",
    "\n",
    "We will add geometries (sets of points, histograms, lines, etc.) by adding what we call \"layers\" - let's take a look at a few of the options.\n",
    "\n",
    "### Scatterplots\n",
    "\n",
    "Now let's add some points! If we want to get a sense of how age and hourly wage vary in our data, we can do that by just plotting the points. We can add points using the `geom_point()` function.\n",
    "\n",
    "Since we already declared our two variables, all we need to add the function with `+ geom_point()` to our existing code: "
   ]
  },
  {
   "cell_type": "code",
   "execution_count": null,
   "metadata": {},
   "outputs": [],
   "source": [
    "ggplot(data = sleepdata, aes(x = age, y = hrwage)) +\n",
    "    geom_point()"
   ]
  },
  {
   "cell_type": "markdown",
   "metadata": {},
   "source": [
    "And we get a a plot of all our points (note that we were warned that there are some missing values that get dropped).\n",
    "\n",
    "#### Labels\n",
    "\n",
    "Sometimes we might want to change the labels from the variable names to a more descriptive label, and possibly add a title. We can do that! We do this by adding the `labs()` function to our plot."
   ]
  },
  {
   "cell_type": "code",
   "execution_count": null,
   "metadata": {
    "scrolled": false
   },
   "outputs": [],
   "source": [
    "ggplot(data = sleepdata, aes(x = age, y = hrwage)) +\n",
    "    geom_point() +\n",
    "    labs(title = \"Relationship between Age and Hourly Wage\",\n",
    "        subtitle = \"Nonmissing Sample\",\n",
    "        x = \"Age (years)\",\n",
    "        y = \"Hourly Wage ($)\")"
   ]
  },
  {
   "cell_type": "markdown",
   "metadata": {},
   "source": [
    "Let's take a look at what we added to `labs()`. First, `title` gives us the main title at the top. Second, `subtitle` gives us another line in a smaller font below the main title. `x` and `y` correspond to our x and y labels, respectively. \n",
    "\n",
    "#### Changing Points\n",
    "\n",
    "What if we want to change the color/shape/transparency of our points? We can do that by using arguments of `geom_point()`."
   ]
  },
  {
   "cell_type": "code",
   "execution_count": null,
   "metadata": {},
   "outputs": [],
   "source": [
    "ggplot(data = sleepdata, aes(x = age, y = hrwage)) +\n",
    "    geom_point(colour = \"blue\", alpha = 0.4, size = 0.8) +\n",
    "    labs(title = \"Relationship between Age and Hourly Wage\",\n",
    "        subtitle = \"Nonmissing Sample\",\n",
    "        x = \"Age (years)\",\n",
    "        y = \"Hourly Wage ($)\")"
   ]
  },
  {
   "cell_type": "markdown",
   "metadata": {},
   "source": [
    "By adding `colour=\"blue\"` we changed the color to blue. There are [a toooooon](http://sape.inf.usi.ch/sites/default/files/ggplot2-colour-names.png) of named colors that we could use instead (this gets really useful when we start splitting our data by group levels).\n",
    "\n",
    "`alpha = 0.4` is changing the transparency of our points to 40%. `size = 0.8` is reducing the size of the points to 80% of their original size.\n",
    "\n",
    "#### Splitting by Groups\n",
    "\n",
    "What if we wanted to change the color of our points according to whether the individual is male or not? We can do that!"
   ]
  },
  {
   "cell_type": "code",
   "execution_count": null,
   "metadata": {},
   "outputs": [],
   "source": [
    "ggplot(data = sleepdata, aes(x = age, y = hrwage)) +\n",
    "    geom_point(aes(colour = factor(male))) +\n",
    "    labs(title = \"Relationship between Age and Hourly Wage\",\n",
    "        subtitle = \"Nonmissing Sample\",\n",
    "        x = \"Age (years)\",\n",
    "        y = \"Hourly Wage ($)\")"
   ]
  },
  {
   "cell_type": "markdown",
   "metadata": {},
   "source": [
    "By adding an aesthestic to our `geom_point` we can set the color to be determined by the value of $male$. By default, the zero value (i.e. female) gets a red color while a 1 value (female) gets a light green. We specify the variable as a `factor()` so that ggplot knows it is a discrete variable. What if we instead wanted to change color on a continuous scale?"
   ]
  },
  {
   "cell_type": "code",
   "execution_count": null,
   "metadata": {},
   "outputs": [],
   "source": [
    "ggplot(data = sleepdata, aes(x = age, y = hrwage)) +\n",
    "    geom_point(aes(colour = age)) +\n",
    "    labs(title = \"Relationship between Age and Hourly Wage\",\n",
    "        subtitle = \"Nonmissing Sample\",\n",
    "        x = \"Age (years)\",\n",
    "        y = \"Hourly Wage ($)\")"
   ]
  },
  {
   "cell_type": "markdown",
   "metadata": {},
   "source": [
    "Here the color is now a function of our continuous variable $age$, taking increasingly lighter values for higher ages.\n",
    "\n",
    "(note that __ggplot2__ lets you specify the color scale or color levels if you want, as well as nitpick the labels in the legend. In reality we can change anything that appears in the plot - we just have to choose the right option). \n",
    "\n",
    "One thing to note is that we can make other options conditional on variables in our data frame too. What if we wanted the shape of our points to depend on union participation, the color to vary with gender, and the size of the points to depend on the total minutes worked per week? We can do all that - even if it might look real gross."
   ]
  },
  {
   "cell_type": "code",
   "execution_count": null,
   "metadata": {},
   "outputs": [],
   "source": [
    "ggplot(data = sleepdata, aes(x = age, y = hrwage)) +\n",
    "    geom_point(aes(colour = factor(male), shape = factor(union), size = totwrk)) +\n",
    "    labs(title = \"Relationship between Age and Hourly Wage\",\n",
    "        subtitle = \"Nonmissing Sample\",\n",
    "        x = \"Age (years)\",\n",
    "        y = \"Hourly Wage ($)\")"
   ]
  },
  {
   "cell_type": "markdown",
   "metadata": {},
   "source": [
    "While the above example is cluttered, it shows how we can take a simple scatterplot and use it to convey additional information in just one plot.\n",
    "\n",
    "### Lines\n",
    "\n",
    "We can add lines to our figure in a couple different ways. First, if we wanted to connect all the points in our data with a line, we would use the `geom_line()` function. "
   ]
  },
  {
   "cell_type": "code",
   "execution_count": null,
   "metadata": {},
   "outputs": [],
   "source": [
    "sleepdata %>% \n",
    "    group_by(age) %>% \n",
    "    filter(row_number() == 1) %>%\n",
    "    ggplot(aes(x=age, y = hrwage)) +\n",
    "    geom_line()"
   ]
  },
  {
   "cell_type": "markdown",
   "metadata": {},
   "source": [
    "We can also add points just by adding another layer!"
   ]
  },
  {
   "cell_type": "code",
   "execution_count": null,
   "metadata": {},
   "outputs": [],
   "source": [
    "sleepdata %>% \n",
    "    group_by(age) %>% \n",
    "    filter(row_number() == 1) %>%\n",
    "    ggplot(aes(x=age, y = hrwage)) +\n",
    "    geom_line()+\n",
    "    geom_point(colour = \"gray40\")"
   ]
  },
  {
   "cell_type": "markdown",
   "metadata": {},
   "source": [
    "What if instead we wanted to add a vertical, horizontal, or sloped line in our plot? We use the layers `vline()`, `hline()`, and `abline()` for that.\n",
    "\n",
    "`vline()` is simple and really only needs the `xintercept` argument. Similarly, `hline` takes the `yintercept` argument. `abline` requires us to specify both a `slope` and an `intercept`.\n",
    "\n",
    "Let's say we wanted to add lines to the previous set of points (not connected):"
   ]
  },
  {
   "cell_type": "code",
   "execution_count": null,
   "metadata": {},
   "outputs": [],
   "source": [
    "sleepdata %>% \n",
    "    group_by(age) %>% \n",
    "    filter(row_number() == 1) %>%\n",
    "    ggplot(aes(x=age, y = hrwage)) +\n",
    "    geom_point(colour = \"gray40\") +\n",
    "    geom_vline(xintercept = 40, colour = \"orchid4\") +\n",
    "    geom_hline(yintercept = 10) +\n",
    "    geom_abline(intercept = 25, slope = -0.5, colour = \"grey60\", linetype = \"dashed\")"
   ]
  },
  {
   "cell_type": "markdown",
   "metadata": {},
   "source": [
    "\n",
    "### Histograms and Distributions\n",
    "\n",
    "Sometimes we want to get information about one variable on its own. We can use __ggplot2__ to make histograms as well as predicted distributions!\n",
    "\n",
    "We use the function `geom_histogram()` to produce histograms. To get a basic histogram of $age$, "
   ]
  },
  {
   "cell_type": "code",
   "execution_count": null,
   "metadata": {},
   "outputs": [],
   "source": [
    "ggplot(data = sleepdata, aes(x = age)) +\n",
    "    geom_histogram()"
   ]
  },
  {
   "cell_type": "markdown",
   "metadata": {},
   "source": [
    "Notice that __ggplot2__ chooses a bin width by default, but we can change this by adding `binwidth`. We can also add labels as before.\n",
    "\n",
    "Note that if we want to change color, we now have two different options. `colour` now changes the outline color, while `fill` changes the interior color.\n"
   ]
  },
  {
   "cell_type": "code",
   "execution_count": null,
   "metadata": {
    "scrolled": false
   },
   "outputs": [],
   "source": [
    "ggplot(data = sleepdata, aes(x = age)) +\n",
    "    geom_histogram(binwidth = 10, colour = \"seagreen4\") +\n",
    "    labs(title = \"Age Histogram\",\n",
    "        x = \"Age (years)\",\n",
    "        y = \"Count\")\n",
    "\n",
    "ggplot(data = sleepdata, aes(x = age)) +\n",
    "    geom_histogram(binwidth = 10, fill = \"midnightblue\") +\n",
    "    labs(title = \"Age Histogram\",\n",
    "        x = \"Age (years)\",\n",
    "        y = \"Count\")\n",
    "\n",
    "ggplot(data = sleepdata, aes(x = age)) +\n",
    "    geom_histogram(binwidth = 10, colour = \"grey60\", fill = \"darkolivegreen1\") +\n",
    "    labs(title = \"Age Histogram\",\n",
    "        x = \"Age (years)\",\n",
    "        y = \"Count\")\n",
    "\n",
    "ggplot(data = sleepdata, aes(x = age)) +\n",
    "    geom_histogram(aes(fill = factor(male)), binwidth = 10) +\n",
    "    labs(title = \"Age Histogram\",\n",
    "        x = \"Age (years)\",\n",
    "        y = \"Count\")\n"
   ]
  },
  {
   "cell_type": "markdown",
   "metadata": {},
   "source": [
    "What if we wanted to get a sense of the estimated distribution of age rather than look at the histogram? We can do that with the `geom_density()` function!"
   ]
  },
  {
   "cell_type": "code",
   "execution_count": null,
   "metadata": {},
   "outputs": [],
   "source": [
    "ggplot(data = sleepdata, aes(x = age)) +\n",
    "    geom_density(fill = \"gray60\", colour= \"navy\") +\n",
    "    labs(title = \"Age Density\",\n",
    "        x = \"Age (years)\",\n",
    "        y = \"Density\")\n",
    "\n",
    "ggplot(data = sleepdata, aes(x = age)) +\n",
    "    geom_density(aes(colour = factor(male))) +\n",
    "    labs(title = \"Age Density\",\n",
    "        x = \"Age (years)\",\n",
    "        y = \"Density\")"
   ]
  },
  {
   "cell_type": "markdown",
   "metadata": {},
   "source": [
    "### Regression\n",
    "\n",
    "One cool thing that we can do with __ggplot2__ is produce a simple linear regression line directly in our plot! We use the `geom_smooth(method = \"lm\")` layer for that.\n"
   ]
  },
  {
   "cell_type": "code",
   "execution_count": null,
   "metadata": {
    "scrolled": false
   },
   "outputs": [],
   "source": [
    "wagereg <- lm(hrwage ~ age, data = sleepdata)\n",
    "summary(wagereg)\n",
    "\n",
    "ggplot(data = sleepdata, aes(x=age, y = hrwage)) +\n",
    "    geom_point()+\n",
    "    geom_smooth(method = \"lm\")"
   ]
  },
  {
   "cell_type": "markdown",
   "metadata": {},
   "source": [
    "Notice that by default it gives us the 95% confidence interval too! We can change the confidence interval using the `level` argument.\n",
    "\n",
    "### Multiple Linear Regression in ggplot2\n",
    "\n",
    "How would we go about plotting the results of a multiple linear regression? In this case we have to combine output from our regression with the `abline` function."
   ]
  },
  {
   "cell_type": "code",
   "execution_count": null,
   "metadata": {},
   "outputs": [],
   "source": [
    "wagereg2 <- lm(hrwage ~ age + educ + male, data = sleepdata)\n",
    "\n",
    "\n",
    "summary(wagereg2)\n",
    "\n",
    "int <- wagereg2$coefficients[1]\n",
    "slope_age <- wagereg2$coefficients[2]\n",
    "\n",
    "ggplot(data = sleepdata, aes(x=age, y = hrwage)) +\n",
    "    geom_point()+\n",
    "    geom_abline(intercept = int, slope = slope_age) +\n",
    "    ylim(-20,40)"
   ]
  },
  {
   "cell_type": "markdown",
   "metadata": {},
   "source": [
    "I had to add the `ylim(-20,40)` to change the y limits so that we could see the line... because it now doesn't pass through the data! Recall that our slope coefficient $\\hat\\beta_{age}$ is now the _partial_ effect of age on hourly wage, holding education level and gender constant. As a result, the plot isn't quite as informative on top of the data points in a single set of dimensions."
   ]
  },
  {
   "cell_type": "markdown",
   "metadata": {},
   "source": [
    "### Facets\n",
    "\n",
    "Sometimes we might want to produce different panels of a plot for different _values_ of another variable. For instance, instead of changing the color of our points for males vs females earlier, we could have produced separate plots for data where males = 0 and females = 0 right next to each other. We do that using the `facet_grid()` layer. "
   ]
  },
  {
   "cell_type": "code",
   "execution_count": null,
   "metadata": {},
   "outputs": [],
   "source": [
    "ggplot(data = sleepdata, aes(x=age, y = hrwage)) +\n",
    "    geom_point()+\n",
    "    facet_grid(. ~ male)"
   ]
  },
  {
   "cell_type": "markdown",
   "metadata": {},
   "source": [
    "Here we put the panels next to each other, first for female ($male=0$) on the left and then for males on the left. We can also arrange them vertically by changing how we write the argument."
   ]
  },
  {
   "cell_type": "code",
   "execution_count": null,
   "metadata": {},
   "outputs": [],
   "source": [
    "ggplot(data = sleepdata, aes(x=age, y = hrwage)) +\n",
    "    geom_point()+\n",
    "    facet_grid(male ~ .)"
   ]
  },
  {
   "cell_type": "markdown",
   "metadata": {},
   "source": [
    "Notice that when we put `male ~ .` we get the plots stacked vertically by age, whereas `. ~ male` splits them side by side."
   ]
  },
  {
   "cell_type": "markdown",
   "metadata": {},
   "source": [
    "## xtable\n",
    "\n",
    "The package __xtable__ allows us to obtain high-quality formatted versions of our summary statistics tables, regression tables, and raw data to improve the look of our __R__ output. This is especially useful for generating professional-looking tables that can be added to a research paper... once we get into __RStudio__ on its own. Right now it's not as useful, since our Jupyter notebook already formats results in a specific way.\n",
    "\n",
    "One way we can get a sense of how it formats is by using it on our regression tables in our Jupyter notebook. \n"
   ]
  },
  {
   "cell_type": "code",
   "execution_count": null,
   "metadata": {},
   "outputs": [],
   "source": [
    "\n",
    "reg <- lm(hrwage ~ educ + age + union + exper, data = sleepdata)\n",
    "summary(reg)\n",
    "\n",
    "xtable(reg)"
   ]
  },
  {
   "cell_type": "markdown",
   "metadata": {},
   "source": [
    "We'll spend more time with __xtable__ (and eventually __stargazer__ once we switch over to __RStudio__). "
   ]
  },
  {
   "cell_type": "markdown",
   "metadata": {},
   "source": [
    "## Practice with ggplot!\n",
    "\n",
    "Let's try producing a couple of different plots. First, let's load in a new dataset - the _autos.dta_ file again."
   ]
  },
  {
   "cell_type": "code",
   "execution_count": 114,
   "metadata": {},
   "outputs": [
    {
     "data": {
      "text/html": [
       "<table>\n",
       "<caption>A tibble: 6 × 12</caption>\n",
       "<thead>\n",
       "\t<tr><th scope=col>make</th><th scope=col>price</th><th scope=col>mpg</th><th scope=col>rep78</th><th scope=col>headroom</th><th scope=col>trunk</th><th scope=col>weight</th><th scope=col>length</th><th scope=col>turn</th><th scope=col>displacement</th><th scope=col>gear_ratio</th><th scope=col>foreign</th></tr>\n",
       "\t<tr><th scope=col>&lt;chr&gt;</th><th scope=col>&lt;dbl&gt;</th><th scope=col>&lt;dbl&gt;</th><th scope=col>&lt;dbl&gt;</th><th scope=col>&lt;dbl&gt;</th><th scope=col>&lt;dbl&gt;</th><th scope=col>&lt;dbl&gt;</th><th scope=col>&lt;dbl&gt;</th><th scope=col>&lt;dbl&gt;</th><th scope=col>&lt;dbl&gt;</th><th scope=col>&lt;dbl&gt;</th><th scope=col>&lt;dbl+lbl&gt;</th></tr>\n",
       "</thead>\n",
       "<tbody>\n",
       "\t<tr><td>AMC Concord  </td><td>4099</td><td>22</td><td> 3</td><td>2.5</td><td>11</td><td>2930</td><td>186</td><td>40</td><td>121</td><td>3.58</td><td>0</td></tr>\n",
       "\t<tr><td>AMC Pacer    </td><td>4749</td><td>17</td><td> 3</td><td>3.0</td><td>11</td><td>3350</td><td>173</td><td>40</td><td>258</td><td>2.53</td><td>0</td></tr>\n",
       "\t<tr><td>AMC Spirit   </td><td>3799</td><td>22</td><td>NA</td><td>3.0</td><td>12</td><td>2640</td><td>168</td><td>35</td><td>121</td><td>3.08</td><td>0</td></tr>\n",
       "\t<tr><td>Buick Century</td><td>4816</td><td>20</td><td> 3</td><td>4.5</td><td>16</td><td>3250</td><td>196</td><td>40</td><td>196</td><td>2.93</td><td>0</td></tr>\n",
       "\t<tr><td>Buick Electra</td><td>7827</td><td>15</td><td> 4</td><td>4.0</td><td>20</td><td>4080</td><td>222</td><td>43</td><td>350</td><td>2.41</td><td>0</td></tr>\n",
       "\t<tr><td>Buick LeSabre</td><td>5788</td><td>18</td><td> 3</td><td>4.0</td><td>21</td><td>3670</td><td>218</td><td>43</td><td>231</td><td>2.73</td><td>0</td></tr>\n",
       "</tbody>\n",
       "</table>\n"
      ],
      "text/latex": [
       "A tibble: 6 × 12\n",
       "\\begin{tabular}{r|llllllllllll}\n",
       " make & price & mpg & rep78 & headroom & trunk & weight & length & turn & displacement & gear\\_ratio & foreign\\\\\n",
       " <chr> & <dbl> & <dbl> & <dbl> & <dbl> & <dbl> & <dbl> & <dbl> & <dbl> & <dbl> & <dbl> & <dbl+lbl>\\\\\n",
       "\\hline\n",
       "\t AMC Concord   & 4099 & 22 &  3 & 2.5 & 11 & 2930 & 186 & 40 & 121 & 3.58 & 0\\\\\n",
       "\t AMC Pacer     & 4749 & 17 &  3 & 3.0 & 11 & 3350 & 173 & 40 & 258 & 2.53 & 0\\\\\n",
       "\t AMC Spirit    & 3799 & 22 & NA & 3.0 & 12 & 2640 & 168 & 35 & 121 & 3.08 & 0\\\\\n",
       "\t Buick Century & 4816 & 20 &  3 & 4.5 & 16 & 3250 & 196 & 40 & 196 & 2.93 & 0\\\\\n",
       "\t Buick Electra & 7827 & 15 &  4 & 4.0 & 20 & 4080 & 222 & 43 & 350 & 2.41 & 0\\\\\n",
       "\t Buick LeSabre & 5788 & 18 &  3 & 4.0 & 21 & 3670 & 218 & 43 & 231 & 2.73 & 0\\\\\n",
       "\\end{tabular}\n"
      ],
      "text/markdown": [
       "\n",
       "A tibble: 6 × 12\n",
       "\n",
       "| make &lt;chr&gt; | price &lt;dbl&gt; | mpg &lt;dbl&gt; | rep78 &lt;dbl&gt; | headroom &lt;dbl&gt; | trunk &lt;dbl&gt; | weight &lt;dbl&gt; | length &lt;dbl&gt; | turn &lt;dbl&gt; | displacement &lt;dbl&gt; | gear_ratio &lt;dbl&gt; | foreign &lt;dbl+lbl&gt; |\n",
       "|---|---|---|---|---|---|---|---|---|---|---|---|\n",
       "| AMC Concord   | 4099 | 22 |  3 | 2.5 | 11 | 2930 | 186 | 40 | 121 | 3.58 | 0 |\n",
       "| AMC Pacer     | 4749 | 17 |  3 | 3.0 | 11 | 3350 | 173 | 40 | 258 | 2.53 | 0 |\n",
       "| AMC Spirit    | 3799 | 22 | NA | 3.0 | 12 | 2640 | 168 | 35 | 121 | 3.08 | 0 |\n",
       "| Buick Century | 4816 | 20 |  3 | 4.5 | 16 | 3250 | 196 | 40 | 196 | 2.93 | 0 |\n",
       "| Buick Electra | 7827 | 15 |  4 | 4.0 | 20 | 4080 | 222 | 43 | 350 | 2.41 | 0 |\n",
       "| Buick LeSabre | 5788 | 18 |  3 | 4.0 | 21 | 3670 | 218 | 43 | 231 | 2.73 | 0 |\n",
       "\n"
      ],
      "text/plain": [
       "  make          price mpg rep78 headroom trunk weight length turn displacement\n",
       "1 AMC Concord   4099  22   3    2.5      11    2930   186    40   121         \n",
       "2 AMC Pacer     4749  17   3    3.0      11    3350   173    40   258         \n",
       "3 AMC Spirit    3799  22  NA    3.0      12    2640   168    35   121         \n",
       "4 Buick Century 4816  20   3    4.5      16    3250   196    40   196         \n",
       "5 Buick Electra 7827  15   4    4.0      20    4080   222    43   350         \n",
       "6 Buick LeSabre 5788  18   3    4.0      21    3670   218    43   231         \n",
       "  gear_ratio foreign\n",
       "1 3.58       0      \n",
       "2 2.53       0      \n",
       "3 3.08       0      \n",
       "4 2.93       0      \n",
       "5 2.41       0      \n",
       "6 2.73       0      "
      ]
     },
     "metadata": {},
     "output_type": "display_data"
    }
   ],
   "source": [
    "autodata <- read_dta(\"autos.dta\")\n",
    "head(autodata)"
   ]
  },
  {
   "cell_type": "markdown",
   "metadata": {},
   "source": [
    "### Using `autodata`, create\n",
    "### 1. A scatter plot showing the relationship between weight and mpg. Put weight on the x-axis and mpg on the y-axis. Label the x-axis \"Weight (lbs)\" and the y-axis \"Fuel Efficiency (mpg)\" and give it a nice title.\n",
    "### 2. A histogram of price, with fill color according to whether the vehicle is foreign-made or not\n",
    "### 3. A histogram of price, faceted according to whether the vehicle is foreign-made or not. Do you think this looks better or worse than 2. ?\n",
    "### 4. Run a regression of price on mpg, foreign, and weight. Use `mutate` to add the residuals as a variable in `autodata`. Then, plot the residuals (y-axis) against mpg. Do the residuals appear to vary systematically with fuel efficiency? (recall that we can access residuals from `lm` output using `$residuals`)"
   ]
  },
  {
   "cell_type": "code",
   "execution_count": null,
   "metadata": {},
   "outputs": [],
   "source": []
  },
  {
   "cell_type": "code",
   "execution_count": null,
   "metadata": {},
   "outputs": [],
   "source": []
  },
  {
   "cell_type": "code",
   "execution_count": null,
   "metadata": {},
   "outputs": [],
   "source": []
  },
  {
   "cell_type": "code",
   "execution_count": null,
   "metadata": {},
   "outputs": [],
   "source": []
  },
  {
   "cell_type": "markdown",
   "metadata": {},
   "source": [
    "# Practice Exercises\n",
    "\n",
    "## 1.\n",
    "\n",
    "#### We run the following regression of log-wage on three X variables:\n",
    "\n",
    "#### lm(log(wage) ~ educ + exper + female, data = WageData)\n",
    "\n",
    "<p style=\"text-align: center;\"> </p>\n",
    "\n",
    "<img src=\"images/wagereg.png\" width=\"800\" />\n",
    "\n",
    "#### 1. Fill in the t-stat for education and calculate the 95% confidence interval\n",
    "\n",
    "#### 2. Interpret the coefficient on experience, remember to comment on sign, size, and significance (SSS)\n",
    "\n",
    "#### 3. Test the null that female salaries are 50% lower than male salaries at 1% significance. Show your work using the five steps in hypothesis testing.\n"
   ]
  },
  {
   "cell_type": "markdown",
   "metadata": {},
   "source": []
  },
  {
   "cell_type": "markdown",
   "metadata": {},
   "source": [
    "## 2. \n",
    "\n",
    "#### A multinational firm  focused on petroleum refining conducted a poll that showed a disapproval rate of 63% among consumers. The CEO refuses to believe this is true, and hires you as a consultant to check on the validity of the earlier poll. After depositing your hefty consulting fee, you collect a random sample of 100 consumers and find that 55 of them disapprove of the way the firm treats the environment. Run a hypothesis test (95% significance level) to evaluate whether the original poll is reporting the correct disapproval rate."
   ]
  },
  {
   "cell_type": "markdown",
   "metadata": {},
   "source": []
  },
  {
   "cell_type": "markdown",
   "metadata": {},
   "source": [
    "## 3.\n",
    "\n",
    "#### To investigate possible gender discrimination in a firm, a sample of 100 men and 64 women with similar job descriptions are selected at random and independently. A summary of the resulting monthly salaries is:\n",
    "\n",
    "\n",
    "|    Group   | Average | Standard Deviation | Observations |\n",
    "|------------|---------|--------------------|--------------|\n",
    "| Men        | 3100    | 200                | 100          |\n",
    "| Women      | 2900    | 320                | 64           |\n",
    "\n",
    "\n",
    "#### Do these data provide statistically significant evidence that the wages of men and women are different at the 1 percent significance level?\n"
   ]
  },
  {
   "cell_type": "markdown",
   "metadata": {},
   "source": []
  },
  {
   "cell_type": "markdown",
   "metadata": {},
   "source": [
    "## 4. \n",
    "\n",
    "#### From a sample of 200 households, we estimated the following two models of gasoline consumption (t-statistics in parentheses)\n",
    "\n",
    "\n",
    "$$ gas = 34.2 + 10.5 suv + 0.25 inc -  0.00005 inc^2 $$\n",
    "$$ ~~~~~~~~~~~~~~~~(2.3)~~~~(3.1)~~~~~~~~~(1.7)~~~~~~~~~~~~(1.8)~~~~~~~~~~~~~~$$\n",
    "\n",
    "\n",
    "$$ gas = 22.2 + 15.3 suv $$\n",
    "$$ ~~~~~~~~~~~~~~~~(2.3)~~~~(3.1)~~~~~~~~~~$$\n",
    "\n",
    "#### where gas gives the number of gallons per month, suv is a dummy variable for whether the household owns an SUV, and inc is the annual household income in thousands of \\$.\n",
    "\n",
    "#### 1. What is the marginal effect of income on gasoline consumption?\n",
    "\n",
    "#### 2. At what point does that relationship change sign?\n",
    "\n",
    "#### 3. What is the correlation between income and owning and SUV? Show how you came to this conclusion. (What did you have to assume - reasonably - in order to answer this question?)"
   ]
  },
  {
   "cell_type": "markdown",
   "metadata": {},
   "source": []
  }
 ],
 "metadata": {
  "kernelspec": {
   "display_name": "R",
   "language": "R",
   "name": "ir"
  },
  "language_info": {
   "codemirror_mode": "r",
   "file_extension": ".r",
   "mimetype": "text/x-r-source",
   "name": "R",
   "pygments_lexer": "r",
   "version": "4.1.0"
  }
 },
 "nbformat": 4,
 "nbformat_minor": 2
}
