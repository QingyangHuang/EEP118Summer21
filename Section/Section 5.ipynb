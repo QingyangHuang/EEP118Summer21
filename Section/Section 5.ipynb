{
 "cells": [
  {
   "cell_type": "markdown",
   "metadata": {},
   "source": [
    "# EEP/IAS 118 - Section 5\n",
    "\n",
    "## RStudio and Midterm Review\n",
    "\n",
    "### July 22, 2021\n",
    "\n",
    "Today we will introduce RStudio. RStudio is an Intregrated Development Environment (IDE) for R. It lets us edit scripts, produce output, navigate file structures, view plots, and see content curently in memory through its interface. "
   ]
  },
  {
   "cell_type": "markdown",
   "metadata": {},
   "source": [
    "## The RStudio Interface\n",
    "\n",
    "When we use __R__ on our own computers, most people do so using RStudio. RStudio gives us a really helpful interface for producing and running __R__ code all in one window. It has several advantages when it comes to producing research.\n",
    "\n",
    "There are four main elements of RStudio:\n",
    "\n",
    "### 1. Script Window \n",
    "\n",
    "This is the “upper left” window in your __RStudio__ window. This is where you will be writing all of your code. This window allows you to save your R scripts and gives any researcher with the file the ability to replicate your analysis.\n",
    "\n",
    "\n",
    "### 2. Console\n",
    "\n",
    "This is the \"bottom left” window in your __Rstudio__ window. This window will display results you run from the script window. You can also type in one-time commands in this window, but they will not be saved. __You should never be coding in this window__. You cannot save anything you run from the console, thus making it not replicable. Always write your code in a script and then run it so that the results appear in the console.\n",
    "\n",
    "### 3. Environment \n",
    "\n",
    "This is the “upper right” window in __RStudio__. This window will display saved variables, dataframes, and functions that you’ve written to memory. Whereas all the memory items are hidden in the background when we use a Jupyter Notebook, now we can see them all (and even view their contents) directly. The environment window is useful in keeping you informed about what R has stored from the code you’ve written.\n",
    "\n",
    "### 4. Files/Plots/Help Window\n",
    "\n",
    "This is the \"bottom right\" window in __RStudio__. This window contains a couple of different tabs that will let us browse through files, view plots we produce, get information on packages, and view help files. "
   ]
  },
  {
   "cell_type": "markdown",
   "metadata": {},
   "source": [
    "## 1. The Script Window\n",
    "\n",
    "When working in __RStudio__, whether on the __Datahub__ server or on your own computer, it is important to always save your code! We do this using scripts. To start a new script, click `File > New File > R Script`, or click the little picture of a sheet of paper with a plus on it (just below the File menu). Once you open a new script, a blank untitled script will appear.\n",
    "\n",
    "This script is essentially like one giant combined code cell. You can add your preamble, input all the code for your analysis, and put any comments to guide you later as to what's going on. The goal is to have your script written so that you can run the entire thing and produce all the output that you want.\n",
    "\n",
    "* To run a line of code in your script, hit the `Run` button (can also hit `Command + Enter` on Mac, or `Ctrl + Enter` on Windows). You can also highlight multiple lines of code and run them all at the same time. \n",
    "* To save an R Script, hit `File > Save` (hotkey `Command + S` for Mac, `Ctrl + S` for Windows). You then must choose a folder and name for your script, and hit enter to save it. \n",
    "* It's a good habit to save your code every few minutes, and if you make big changes to your approach go ahead and save a separate copy of the code (we no longer have the built-in version control as we did with the notebooks).\n",
    "* To break code into sections, we can now type `# ----` to introduce blocks. We can now click the little arrow to the left of our break code to hide that block of code from view! This is useful if we write long functions and want to hide them from view while skipping back and forth in our code.\n",
    "* The script can be reopened through the file window (which we'll talk about later) or by clicking `File > Open` in the menu toolbar.\n",
    "\n",
    "### Script Setup\n",
    "\n",
    "Generally we begin by adding our preamble. This is where we set our working directory and load in any of the packages that we plan to use. We'll generally also load in the data we're using for our analysis here before diving in to other analysis."
   ]
  },
  {
   "cell_type": "markdown",
   "metadata": {},
   "source": [
    "## 2. The Console\n",
    "\n",
    "The console is essentially a direct line to __R__. You can type code here directly, but more importantly this is where all your output will be printed to. Think of this like the output spaces of the notebooks; rather than right below a code cell, all our output will get printed right to the console window.\n",
    "\n",
    "Note that because all our output gets printed in the same window, we can scroll back through it to look at old results. At the same time, it means we don't get results printed in a clean way that can easily be saved out in a easily-read fashion. If we want to save out our work from __RStudio__, we'll need to employ some other techniques which we'll discuss later."
   ]
  },
  {
   "cell_type": "markdown",
   "metadata": {},
   "source": [
    "## 3. The Environment Window\n",
    "\n",
    "The environment window tells us everything that's currently loaded into __RStudio__. Whenever we load a dataset, build a vector, or write a function, they will all appear in the environment window with some information on their object type. \n",
    "\n",
    "* Once we load a dataframe, we can view it in a new tab by clicking on its name in the environment window"
   ]
  },
  {
   "cell_type": "markdown",
   "metadata": {},
   "source": [
    "## 4. Files/Plots/Help Window\n",
    "\n",
    "This combined area is used for a couple of different tasks, depending on which tab we're in.\n",
    "\n",
    "#### Files\n",
    "\n",
    "The file viewer lets us view and navigate the files/folders on our system. In the case of __Datahub__, this lets us view our entire folder structure and access the various files we have saved here. \n",
    "\n",
    "* Right-clicking on a folder name in the heirarchy will take us to that folder\n",
    "* Clicking the back folder will take us to the parent folder\n",
    "* Clicking on a dataset will give us the option to import the dataset - note that we'll ultimately want to load everything using our script, else we can't replicate our results conveniently. \n",
    "\n",
    "#### Plots\n",
    "\n",
    "Whereas before the plots appeared below our cells, now they will appear in the plots viewer tab when we produce them. If we want to save them, we will have to save them to file using `ggsave()` (note that by default this will save the file to the current working directory).\n",
    "\n",
    "#### Help\n",
    "\n",
    "Whenever you have a question about a given function, you can type `?` in front of the function name and run the code, and the documentation will appear in the help tab, which will come to the front. This will help us get information on the syntax and output of a given function."
   ]
  },
  {
   "cell_type": "markdown",
   "metadata": {},
   "source": [
    "## Stargazer in RStudio\n",
    "\n",
    "Now that we're in __RStudio__, the __stargazer__ package gives us an option for producing some cool tables. We can use the `stargazer()` function to produce html code that we can add to our notebooks, text tables, and LaTeX code that can be added to research papers (LaTeX is a nifty typesetting program that a lot of economists use since it makes writing math equation super simple - all our notebook's equations are made using LaTeX!). You can use it to format summary statistics tables as well as regression output!\n",
    "\n",
    "Here are a couple examples of html tables using our Problem Set 1 data:\n",
    "\n",
    "\n",
    "<table style=\"text-align:center\"><caption><strong>Summary Statistics</strong></caption>\n",
    "    <tr><td colspan=\"8\" style=\"border-bottom: 1px solid black\"></td></tr><tr><td style=\"text-align:left\">Statistic</td><td>N</td><td>Mean</td><td>St. Dev.</td><td>Min</td><td>Pctl(25)</td><td>Pctl(75)</td><td>Max</td></tr>\n",
    "<tr><td colspan=\"8\" style=\"border-bottom: 1px solid black\"></td></tr><tr><td style=\"text-align:left\">count</td><td>1</td><td>115.000</td><td></td><td>115</td><td>115</td><td>115</td><td>115</td></tr>\n",
    "<tr><td style=\"text-align:left\">percentile.95</td><td>1</td><td>22.145</td><td></td><td>22.145</td><td>22.145</td><td>22.145</td><td>22.145</td></tr>\n",
    "<tr><td colspan=\"8\" style=\"border-bottom: 1px solid black\"></td></tr></table>\n",
    "\n",
    "\n",
    "\n",
    "\n",
    "<table style=\"text-align:center\"><caption><strong>Greenhous Gas Emissions and GDP</strong></caption>\n",
    "<tr><td colspan=\"3\" style=\"border-bottom: 1px solid black\"></td></tr><tr><td style=\"text-align:left\"></td><td colspan=\"2\"><em>Dependent variable:</em></td></tr>\n",
    "<tr><td></td><td colspan=\"2\" style=\"border-bottom: 1px solid black\"></td></tr>\n",
    "<tr><td style=\"text-align:left\"></td><td>GGTonnesCapita</td><td>log(GGTonnesCapita)</td></tr>\n",
    "<tr><td style=\"text-align:left\"></td><td>(1)</td><td>(2)</td></tr>\n",
    "<tr><td colspan=\"3\" style=\"border-bottom: 1px solid black\"></td></tr><tr><td style=\"text-align:left\">GDPCapita</td><td>0.176<sup>***</sup></td><td></td></tr>\n",
    "<tr><td style=\"text-align:left\"></td><td>(0.038)</td><td></td></tr>\n",
    "<tr><td style=\"text-align:left\"></td><td></td><td></td></tr>\n",
    "<tr><td style=\"text-align:left\">log(GDPCapita)</td><td></td><td>0.364<sup>***</sup></td></tr>\n",
    "<tr><td style=\"text-align:left\"></td><td></td><td>(0.044)</td></tr>\n",
    "<tr><td style=\"text-align:left\"></td><td></td><td></td></tr>\n",
    "<tr><td style=\"text-align:left\">Constant</td><td>6.464<sup>***</sup></td><td>1.191<sup>***</sup></td></tr>\n",
    "<tr><td style=\"text-align:left\"></td><td>(0.889)</td><td>(0.104)</td></tr>\n",
    "<tr><td style=\"text-align:left\"></td><td></td><td></td></tr>\n",
    "<tr><td colspan=\"3\" style=\"border-bottom: 1px solid black\"></td></tr><tr><td style=\"text-align:left\">Observations</td><td>115</td><td>115</td></tr>\n",
    "<tr><td style=\"text-align:left\">R<sup>2</sup></td><td>0.160</td><td>0.374</td></tr>\n",
    "<tr><td style=\"text-align:left\">Adjusted R<sup>2</sup></td><td>0.152</td><td>0.368</td></tr>\n",
    "<tr><td style=\"text-align:left\">Residual Std. Error (df = 113)</td><td>7.345</td><td>0.658</td></tr>\n",
    "<tr><td style=\"text-align:left\">F Statistic (df = 1; 113)</td><td>21.499<sup>***</sup></td><td>67.480<sup>***</sup></td></tr>\n",
    "<tr><td colspan=\"3\" style=\"border-bottom: 1px solid black\"></td></tr><tr><td style=\"text-align:left\"><em>Note:</em></td><td colspan=\"2\" style=\"text-align:right\"><sup>*</sup>p<0.1; <sup>**</sup>p<0.05; <sup>***</sup>p<0.01</td></tr>\n",
    "</table>\n",
    "\n",
    "\n"
   ]
  },
  {
   "cell_type": "markdown",
   "metadata": {},
   "source": [
    "## ITT/TOT Practice Question\n",
    "\n",
    "One thing to recall about the relationship between our Intent to Treat (ITT) and the Treatment on the treated (TOT) is that we can express\n",
    "\n",
    "$$ TOT = \\frac{ITT}{\\text{Share of Treatment Group who Actually Received Treatment}}$$\n",
    "\n",
    "\n",
    "Let's practice:\n",
    "\n",
    "__Q:__ A researcher tells 25 experimental group members that they will receive 25 dollars, 25 that they will receive 50 dollars, 25 that they will receive 75 dollars, and 25 that they will receive 100 dollars. The control group is told nothing. Afterwards, the researcher observes that 30% of the experimental group showed up to collect the money. When treatment group participants are surveyed the next day,the average member of the experimental group turns out to have received 21 dollars, and all members of the control group received $0.\n",
    "\n",
    "### (a) what is the ITT?\n",
    "\n",
    "### (b) what is the TOT?"
   ]
  },
  {
   "cell_type": "markdown",
   "metadata": {},
   "source": [
    "# Midterm Review\n",
    "\n",
    "Next we will work through our midterm answers and discuss some areas that were frequently missed."
   ]
  },
  {
   "cell_type": "code",
   "execution_count": null,
   "metadata": {},
   "outputs": [],
   "source": []
  }
 ],
 "metadata": {
  "kernelspec": {
   "display_name": "R",
   "language": "R",
   "name": "ir"
  },
  "language_info": {
   "codemirror_mode": "r",
   "file_extension": ".r",
   "mimetype": "text/x-r-source",
   "name": "R",
   "pygments_lexer": "r",
   "version": "4.0.5"
  }
 },
 "nbformat": 4,
 "nbformat_minor": 2
}
